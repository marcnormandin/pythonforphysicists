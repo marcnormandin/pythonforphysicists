{
 "metadata": {
  "name": "",
  "signature": "sha256:9a420d5514d8823c21bfdca2cfa9c9f9c017bb7c938be590d96d38345d26e7fe"
 },
 "nbformat": 3,
 "nbformat_minor": 0,
 "worksheets": [
  {
   "cells": [
    {
     "cell_type": "code",
     "collapsed": false,
     "input": [
      "\"\"\"\n",
      "Demo of a simple plot with a custom dashed line.\n",
      "\n",
      "A Line object's ``set_dashes`` method allows you to specify dashes with\n",
      "a series of on/off lengths (in points).\n",
      "\"\"\"\n",
      "import numpy as np\n",
      "import matplotlib.pyplot as plt\n",
      "\n",
      "\n",
      "x = np.linspace(0, 10)\n",
      "line, = plt.plot(x, np.sin(x), '--', linewidth=2)\n",
      "\n",
      "dashes = [10, 5, 100, 5] # 10 points on, 5 off, 100 on, 5 off\n",
      "line.set_dashes(dashes)\n",
      "\n",
      "plt.show()\n"
     ],
     "language": "python",
     "metadata": {},
     "outputs": []
    },
    {
     "cell_type": "heading",
     "level": 5,
     "metadata": {},
     "source": [
      "This next segment shows how to create subplots:"
     ]
    },
    {
     "cell_type": "code",
     "collapsed": false,
     "input": [
      "\"\"\"\n",
      "Basic demo of axis spines.\n",
      "\n",
      "This demo compares a normal axes, with spines on all four sides, and an axes\n",
      "with spines only on the left and bottom.\n",
      "\"\"\"\n",
      "import numpy as np\n",
      "import matplotlib.pyplot as plt\n",
      "\n",
      "\n",
      "x = np.linspace(0, 2 * np.pi, 100)\n",
      "y = 2 * np.sin(x)\n",
      "\n",
      "fig, (ax0, ax1) = plt.subplots(nrows=2)\n",
      "\n",
      "ax0.plot(x, y)\n",
      "ax0.set_title('normal spines')\n",
      "\n",
      "ax1.plot(x, y)\n",
      "ax1.set_title('bottom-left spines')\n",
      "\n",
      "# Hide the right and top spines\n",
      "ax1.spines['right'].set_visible(False)\n",
      "ax1.spines['top'].set_visible(False)\n",
      "# Only show ticks on the left and bottom spines\n",
      "ax1.yaxis.set_ticks_position('left')\n",
      "ax1.xaxis.set_ticks_position('bottom')\n",
      "\n",
      "# Tweak spacing between subplots to prevent labels from overlapping\n",
      "plt.subplots_adjust(hspace=0.5)\n",
      "plt.show()\n"
     ],
     "language": "python",
     "metadata": {},
     "outputs": []
    },
    {
     "cell_type": "code",
     "collapsed": false,
     "input": [
      "\"\"\"\n",
      "Demo of the histogram (hist) function with a few features.\n",
      "\n",
      "In addition to the basic histogram, this demo shows a few optional features:\n",
      "\n",
      "    * Setting the number of data bins\n",
      "    * The ``normed`` flag, which normalizes bin heights so that the integral of\n",
      "      the histogram is 1. The resulting histogram is a probability density.\n",
      "    * Setting the face color of the bars\n",
      "    * Setting the opacity (alpha value).\n",
      "\n",
      "\"\"\"\n",
      "import numpy as np\n",
      "import matplotlib.mlab as mlab\n",
      "import matplotlib.pyplot as plt\n",
      "\n",
      "\n",
      "# example data\n",
      "mu = 100 # mean of distribution\n",
      "sigma = 15 # standard deviation of distribution\n",
      "x = mu + sigma * np.random.randn(10000)\n",
      "\n",
      "num_bins = 50\n",
      "# the histogram of the data\n",
      "n, bins, patches = plt.hist(x, num_bins, normed=1, facecolor='green', alpha=0.5)\n",
      "# add a 'best fit' line\n",
      "y = mlab.normpdf(bins, mu, sigma)\n",
      "plt.plot(bins, y, 'r--')\n",
      "plt.xlabel('Smarts')\n",
      "plt.ylabel('Probability')\n",
      "plt.title(r'Histogram of IQ: $\\mu=100$, $\\sigma=15$')\n",
      "\n",
      "# Tweak spacing to prevent clipping of ylabel\n",
      "plt.subplots_adjust(left=0.15)\n",
      "plt.show()\n"
     ],
     "language": "python",
     "metadata": {},
     "outputs": []
    },
    {
     "cell_type": "code",
     "collapsed": false,
     "input": [],
     "language": "python",
     "metadata": {},
     "outputs": []
    }
   ],
   "metadata": {}
  }
 ]
}