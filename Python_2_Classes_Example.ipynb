{
 "metadata": {
  "name": "",
  "signature": "sha256:df6a915447fabd0a10f9fb70eb1516e82730fd963b2c14e86e47c1dd5b27fb59"
 },
 "nbformat": 3,
 "nbformat_minor": 0,
 "worksheets": [
  {
   "cells": [
    {
     "cell_type": "code",
     "collapsed": false,
     "input": [
      "class Accumulator:\n",
      "    __values = []\n",
      "    \n",
      "    def __init__(self, defaultValues=[]):\n",
      "        self.__values = defaultValues;\n",
      "    \n",
      "    def add(self, x):\n",
      "        self.__values.append(x)\n",
      "        \n",
      "    def sum(self):\n",
      "        return sum(self.__values)\n",
      "    \n",
      "    def mean(self):\n",
      "        return sum(self.__values) / len(self.__values)\n",
      "        "
     ],
     "language": "python",
     "metadata": {},
     "outputs": []
    },
    {
     "cell_type": "code",
     "collapsed": false,
     "input": [
      "a = Accumulator([1])\n",
      "a.add(1)\n",
      "a.add(2)"
     ],
     "language": "python",
     "metadata": {},
     "outputs": []
    },
    {
     "cell_type": "code",
     "collapsed": false,
     "input": [
      "a.sum()"
     ],
     "language": "python",
     "metadata": {},
     "outputs": []
    },
    {
     "cell_type": "code",
     "collapsed": false,
     "input": [
      "a.mean()"
     ],
     "language": "python",
     "metadata": {},
     "outputs": []
    },
    {
     "cell_type": "code",
     "collapsed": false,
     "input": [
      "print(a.__values)"
     ],
     "language": "python",
     "metadata": {},
     "outputs": []
    },
    {
     "cell_type": "code",
     "collapsed": false,
     "input": [],
     "language": "python",
     "metadata": {},
     "outputs": []
    }
   ],
   "metadata": {}
  }
 ]
}