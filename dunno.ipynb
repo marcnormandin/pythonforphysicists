{
 "metadata": {
  "name": "",
  "signature": "sha256:ea4637a6635ede31c7fc09d8477074bd49277bc162704daf77a47e2ff81c61d1"
 },
 "nbformat": 3,
 "nbformat_minor": 0,
 "worksheets": [
  {
   "cells": [
    {
     "cell_type": "code",
     "collapsed": false,
     "input": [
      "import time, sys\n",
      "from IPython.core.display import clear_output\n",
      "f, ax = plt.subplots()\n",
      "\n",
      "n = 30\n",
      "x = array([i/10.0 for i in range(n)])\n",
      "y = array([sin(i) for i in x])\n",
      "for i in range(5,n):\n",
      "  ax.plot(x[:i],y[:i])\n",
      "  time.sleep(0.1)\n",
      "  clear_output()\n",
      "  display(f)\n",
      "  ax.cla() # turn this off if you'd like to \"build up\" plots\n",
      "plt.close()"
     ],
     "language": "python",
     "metadata": {},
     "outputs": []
    },
    {
     "cell_type": "code",
     "collapsed": false,
     "input": [],
     "language": "python",
     "metadata": {},
     "outputs": []
    },
    {
     "cell_type": "code",
     "collapsed": false,
     "input": [],
     "language": "python",
     "metadata": {},
     "outputs": []
    }
   ],
   "metadata": {}
  }
 ]
}