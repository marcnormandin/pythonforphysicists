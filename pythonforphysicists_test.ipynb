{
 "metadata": {
  "name": "",
  "signature": "sha256:1339aba16db137b62621816d61d76f4e380cdfff5829725ac9200a0a3fc18bdf"
 },
 "nbformat": 3,
 "nbformat_minor": 0,
 "worksheets": [
  {
   "cells": [
    {
     "cell_type": "heading",
     "level": 1,
     "metadata": {},
     "source": [
      "This code tests the group's module"
     ]
    },
    {
     "cell_type": "code",
     "collapsed": false,
     "input": [
      "import pythonforphysicists as pfp"
     ],
     "language": "python",
     "metadata": {},
     "outputs": []
    },
    {
     "cell_type": "code",
     "collapsed": false,
     "input": [
      "pfp.version()"
     ],
     "language": "python",
     "metadata": {},
     "outputs": []
    },
    {
     "cell_type": "code",
     "collapsed": false,
     "input": [
      "pfp.square_number(9)"
     ],
     "language": "python",
     "metadata": {},
     "outputs": []
    },
    {
     "cell_type": "code",
     "collapsed": false,
     "input": [],
     "language": "python",
     "metadata": {},
     "outputs": []
    }
   ],
   "metadata": {}
  }
 ]
}