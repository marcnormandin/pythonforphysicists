{
 "metadata": {
  "name": "",
  "signature": "sha256:2a11ca3c0ad16b46a0d9894e7950484abe68a506860d1cf288445b776ff059e6"
 },
 "nbformat": 3,
 "nbformat_minor": 0,
 "worksheets": [
  {
   "cells": [
    {
     "cell_type": "heading",
     "level": 1,
     "metadata": {},
     "source": [
      "The interpreter"
     ]
    },
    {
     "cell_type": "markdown",
     "metadata": {},
     "source": [
      "Reference: http://docs.python.org/2/tutorial/interpreter.html"
     ]
    },
    {
     "cell_type": "heading",
     "level": 2,
     "metadata": {},
     "source": [
      "How to pass information to your Python script from the command-line"
     ]
    },
    {
     "cell_type": "markdown",
     "metadata": {},
     "source": [
      "This is how you can pass information to your script from the command line"
     ]
    },
    {
     "cell_type": "code",
     "collapsed": false,
     "input": [
      "import sys\n",
      "print( str( len(sys.argv) ) + \" arguments were passed to this script on the command line. \" )"
     ],
     "language": "python",
     "metadata": {},
     "outputs": []
    },
    {
     "cell_type": "markdown",
     "metadata": {},
     "source": [
      "Now, lets print all of the arguments that were passed on the command-line"
     ]
    },
    {
     "cell_type": "code",
     "collapsed": false,
     "input": [
      "for p in sys.argv:\n",
      "    print( p )"
     ],
     "language": "python",
     "metadata": {},
     "outputs": []
    },
    {
     "cell_type": "heading",
     "level": 2,
     "metadata": {},
     "source": [
      "How to have Python code execute as a script"
     ]
    },
    {
     "cell_type": "markdown",
     "metadata": {},
     "source": [
      "Include the following text (known as a 'shebang') on the first line of the script file"
     ]
    },
    {
     "cell_type": "code",
     "collapsed": false,
     "input": [
      "#! /usr/bin/env python"
     ],
     "language": "python",
     "metadata": {},
     "outputs": []
    },
    {
     "cell_type": "markdown",
     "metadata": {},
     "source": [
      "The script should be executable. Set the executable flag using"
     ]
    },
    {
     "cell_type": "raw",
     "metadata": {},
     "source": [
      "chmod +x your_script_file.py"
     ]
    },
    {
     "cell_type": "heading",
     "level": 2,
     "metadata": {},
     "source": [
      "Site customization files"
     ]
    },
    {
     "cell_type": "markdown",
     "metadata": {},
     "source": [
      "See the documentation"
     ]
    }
   ],
   "metadata": {}
  }
 ]
}