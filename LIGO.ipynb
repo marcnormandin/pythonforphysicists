{
 "metadata": {
  "name": "",
  "signature": "sha256:270bbf3068fb3d14f35a664b3a742c1dfdd37a25452dc4082a527f66cc27cf02"
 },
 "nbformat": 3,
 "nbformat_minor": 0,
 "worksheets": [
  {
   "cells": [
    {
     "cell_type": "code",
     "collapsed": false,
     "input": [
      "import numpy as np\n",
      "from math import *\n",
      "import matplotlib.pyplot as plt\n",
      "\n",
      "def SphericalPolarCoordinatesAzimuthalBasisVector ( azimuthal_angle ):\n",
      "    uv = np.array([0.0]*3)\n",
      "    uv[0] = -1.0 * sin( azimuthal_angle )\n",
      "    uv[1] = cos( azimuthal_angle )\n",
      "    uv[2] = 0.0\n",
      "    return uv\n",
      "\n",
      "\n",
      "\n",
      "def SphericalPolarCoordinatesPolarBasisVector ( azimuthal_angle, polar_angle):\n",
      "    uv = np.array([0.0]*3)\n",
      "    uv[0] = cos( polar_angle ) * cos( azimuthal_angle )\n",
      "    uv[1] = cos( polar_angle ) * sin( azimuthal_angle )\n",
      "    uv[2] = -1.0 * sin( polar_angle )\n",
      "    return uv\n",
      "\n",
      "\n",
      "\n",
      "def SphericalPolarCoordinatesRadialBasisVector ( azimuthal_angle, polar_angle):\n",
      "    uv = np.array([0.0]*3)\n",
      "    uv[0] = sin( polar_angle ) * cos( azimuthal_angle )\n",
      "    uv[1] = sin( polar_angle ) * sin( azimuthal_angle )\n",
      "    uv[2] = cos( polar_angle )\n",
      "    return uv\n",
      "\n",
      "def GwDetectorTensor ( detector_arm_direction_A_vector, detector_arm_direction_B_vector ):\n",
      "    \"\"\"Creates the 3x3 detector tensor given two 3D arm-vectors\"\"\"\n",
      "    \n",
      "    detector_tensor = np.array([0.0]*9)\n",
      "    \n",
      "    for i in range(0,3):\n",
      "        for j in range(0,3):\n",
      "            detector_tensor[j + i * 3] = ( detector_arm_direction_A_vector[i] * detector_arm_direction_A_vector[j] ) - ( detector_arm_direction_B_vector[i] * detector_arm_direction_B_vector[j] )\n",
      "                    \n",
      "    return detector_tensor\n",
      "\n",
      "def GwDetectorFPlus ( azimuthal_angle, polar_angle, detector_tensor ):\n",
      "    \"\"\"Returns the detector's F+ antenna pattern\"\"\"\n",
      "    \n",
      "\t# CAREFUL: This is based on arbitrary convention.\n",
      "    phi_hat_tensor = SphericalPolarCoordinatesAzimuthalBasisVector( azimuthal_angle )\n",
      "    theta_hat_tensor = SphericalPolarCoordinatesPolarBasisVector(     azimuthal_angle, polar_angle )\n",
      "    \n",
      "    f_plus = 0.0\n",
      "    for i in range(0,3):\n",
      "        for j in range(0,3):\n",
      "\t\t\t# note: 1/2 is used to normalize etaPlus\n",
      "\t\t\tetaPlus_ij  = 0.5 * ( ( theta_hat_tensor[i] * theta_hat_tensor[j] ) - ( phi_hat_tensor[i] * phi_hat_tensor[j] ) )\n",
      "\t\t\ttensor_ij = detector_tensor[ j + i * 3]\n",
      "\n",
      "\t\t\tf_plus += etaPlus_ij * tensor_ij\n",
      "    \n",
      "\treturn f_plus\n",
      "\n",
      "def GwDetectorFCross ( azimuthal_angle, polar_angle, detector_tensor ):\n",
      "    \"\"\"Returns the detector's Fx antenna pattern\"\"\"\n",
      "    \n",
      "\t# CAREFUL: This is based on arbitrary convention.\n",
      "    phi_hat_tensor = SphericalPolarCoordinatesAzimuthalBasisVector( azimuthal_angle )\n",
      "    theta_hat_tensor = SphericalPolarCoordinatesPolarBasisVector(     azimuthal_angle, polar_angle )\n",
      "    f_cross = 0.0;\n",
      "    \n",
      "    for i in range(0,3):\n",
      "        for j in range(0,3):\n",
      "\t\t\t# note: 1/2 is used to normalize etaCross\n",
      "\t\t\t# HACK: used a -1.0 to make the test succeed\n",
      "\t\t\tetaCross_ij = -0.5 * ( ( theta_hat_tensor[i] * phi_hat_tensor[j] ) + ( phi_hat_tensor[i] * theta_hat_tensor[j] ) )\n",
      "\t\t\ttensor_ij = detector_tensor[ j + i * 3 ]\n",
      "\t\t\t\n",
      "\t\t\tf_cross += etaCross_ij * tensor_ij\n",
      "\t\n",
      "    return f_cross"
     ],
     "language": "python",
     "metadata": {},
     "outputs": []
    },
    {
     "cell_type": "code",
     "collapsed": false,
     "input": [
      "# Hanford\n",
      "han_azi = 1.0568\n",
      "han_pol = 0.7604\n",
      "han_rad = 6371e3\n",
      "han_arm_a = np.array([0.3562, 0.3388, -0.8708])\n",
      "han_arm_b = np.array([-0.6892, 0.7246, 0.0])\n",
      "han_sf = 4096.0"
     ],
     "language": "python",
     "metadata": {},
     "outputs": []
    },
    {
     "cell_type": "code",
     "collapsed": false,
     "input": [
      "# Livingston\n",
      "liv_azi = 1.5573\n",
      "liv_pol = 1.0374\n",
      "liv_rad = 6371e3\n",
      "liv_arm_a = np.array([0.0069, 0.0116, -0.9999])\n",
      "liv_arm_b = np.array([-0.8611, 0.5085, 0.0])\n",
      "liv_sf = 4096.0"
     ],
     "language": "python",
     "metadata": {},
     "outputs": []
    },
    {
     "cell_type": "code",
     "collapsed": false,
     "input": [
      "dt = GwDetectorTensor(liv_arm_a, liv_arm_b)\n",
      "print(dt)"
     ],
     "language": "python",
     "metadata": {},
     "outputs": []
    },
    {
     "cell_type": "code",
     "collapsed": false,
     "input": [
      "f_plus = GwDetectorFPlus(pi/4.0, pi/4.0,dt) "
     ],
     "language": "python",
     "metadata": {},
     "outputs": []
    },
    {
     "cell_type": "code",
     "collapsed": false,
     "input": [
      "print(f_plus)"
     ],
     "language": "python",
     "metadata": {},
     "outputs": []
    },
    {
     "cell_type": "code",
     "collapsed": false,
     "input": [
      "x = np.array([0]*9)\n",
      "print(x)"
     ],
     "language": "python",
     "metadata": {},
     "outputs": []
    },
    {
     "cell_type": "code",
     "collapsed": false,
     "input": [
      "x[0]"
     ],
     "language": "python",
     "metadata": {},
     "outputs": []
    },
    {
     "cell_type": "code",
     "collapsed": false,
     "input": [
      "pi"
     ],
     "language": "python",
     "metadata": {},
     "outputs": []
    },
    {
     "cell_type": "code",
     "collapsed": false,
     "input": [
      "axis_azi = np.linspace(0.0, 2.0*pi, 100)\n",
      "axis_pol = np.linspace(0.0, pi, 50)\n",
      "AA, PP = np.meshgrid(axis_azi, axis_pol)"
     ],
     "language": "python",
     "metadata": {},
     "outputs": []
    },
    {
     "cell_type": "code",
     "collapsed": false,
     "input": [
      "len(axis_azi)"
     ],
     "language": "python",
     "metadata": {},
     "outputs": []
    },
    {
     "cell_type": "code",
     "collapsed": false,
     "input": [
      "FP = np.ndarray((len(axis_azi), len(axis_pol)), np.float64)\n",
      "FC = np.ndarray((len(axis_azi), len(axis_pol)), np.float64)\n",
      "for i in range(0, len(axis_azi)):\n",
      "    for j in range(0, len(axis_pol)):\n",
      "        FP[i,j] = GwDetectorFPlus(axis_azi[i], axis_pol[j], dt)\n",
      "        FC[i,j] = GwDetectorFCross(axis_azi[i], axis_pol[j], dt)"
     ],
     "language": "python",
     "metadata": {},
     "outputs": []
    },
    {
     "cell_type": "code",
     "collapsed": false,
     "input": [
      "pcolor(FP)"
     ],
     "language": "python",
     "metadata": {},
     "outputs": []
    },
    {
     "cell_type": "code",
     "collapsed": false,
     "input": [
      "pcolor(FC)"
     ],
     "language": "python",
     "metadata": {},
     "outputs": []
    },
    {
     "cell_type": "code",
     "collapsed": false,
     "input": [],
     "language": "python",
     "metadata": {},
     "outputs": []
    }
   ],
   "metadata": {}
  }
 ]
}