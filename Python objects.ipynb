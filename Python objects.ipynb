{
 "metadata": {
  "name": "",
  "signature": "sha256:806439dde186dd3d2c1257c6e92c16dd3c59988c654cfd4495826be6ab854706"
 },
 "nbformat": 3,
 "nbformat_minor": 0,
 "worksheets": [
  {
   "cells": [
    {
     "cell_type": "heading",
     "level": 1,
     "metadata": {},
     "source": [
      "In this notebook we learn about Python objects and their interaction with the assignment operator."
     ]
    },
    {
     "cell_type": "markdown",
     "metadata": {},
     "source": [
      "The definitive source is from the official Python website itself: http://docs.python.org/2/reference/datamodel.html \n",
      "\n",
      "For more about this refer to <a href=\"http://effbot.org/zone/python-objects.htm\">Python Objects</a>"
     ]
    },
    {
     "cell_type": "heading",
     "level": 2,
     "metadata": {},
     "source": [
      "Python names and objects"
     ]
    },
    {
     "cell_type": "markdown",
     "metadata": {},
     "source": [
      "We create a python integer object with the value 5, and then assign the name 'x' to it. Everyone object has a unique identification, which we can see usin the id() command."
     ]
    },
    {
     "cell_type": "code",
     "collapsed": false,
     "input": [
      "x = 5\n",
      "id(x)"
     ],
     "language": "python",
     "metadata": {},
     "outputs": []
    },
    {
     "cell_type": "markdown",
     "metadata": {},
     "source": [
      "Now we create a new name called 'y' and assign 'x' to it."
     ]
    },
    {
     "cell_type": "code",
     "collapsed": false,
     "input": [
      "y = x\n",
      "id(y)"
     ],
     "language": "python",
     "metadata": {},
     "outputs": []
    },
    {
     "cell_type": "markdown",
     "metadata": {},
     "source": [
      "We see that 'x' and 'y' are references to the same <I>object</I>"
     ]
    },
    {
     "cell_type": "code",
     "collapsed": false,
     "input": [
      "y = y + 10\n",
      "id(y)"
     ],
     "language": "python",
     "metadata": {},
     "outputs": []
    },
    {
     "cell_type": "markdown",
     "metadata": {},
     "source": [
      "Now the object to which 'y' refers is not the same as 'x', since we have modified the value. We have created a new object."
     ]
    },
    {
     "cell_type": "code",
     "collapsed": false,
     "input": [
      "y = y + 20\n",
      "id(y)"
     ],
     "language": "python",
     "metadata": {},
     "outputs": []
    },
    {
     "cell_type": "code",
     "collapsed": false,
     "input": [
      "y += 10\n",
      "id(y)"
     ],
     "language": "python",
     "metadata": {},
     "outputs": []
    },
    {
     "cell_type": "markdown",
     "metadata": {},
     "source": [
      "So, each time we use the name (eg. 'x' or 'y') to change and assign a value, we create a new object, and the name then points to that new object. But we should ask if this is the behavior for all Python objects because it could be just for the type 'int'. This is what we look at now."
     ]
    },
    {
     "cell_type": "heading",
     "level": 2,
     "metadata": {},
     "source": [
      "Python array objects"
     ]
    },
    {
     "cell_type": "markdown",
     "metadata": {},
     "source": [
      "We now carry-out a similar procedure as before, but this time for 'list' object."
     ]
    },
    {
     "cell_type": "code",
     "collapsed": false,
     "input": [
      "a = [1, 2, 3, 4, 5]\n",
      "type(a)"
     ],
     "language": "python",
     "metadata": {},
     "outputs": []
    },
    {
     "cell_type": "code",
     "collapsed": false,
     "input": [
      "id(a)"
     ],
     "language": "python",
     "metadata": {},
     "outputs": []
    },
    {
     "cell_type": "code",
     "collapsed": false,
     "input": [
      "b = a\n",
      "id(b)"
     ],
     "language": "python",
     "metadata": {},
     "outputs": []
    },
    {
     "cell_type": "markdown",
     "metadata": {},
     "source": [
      "So, as for the 'int' type, 'b' and 'a' are names for the same object. Now, lets continue by modifying a value (using 'b')."
     ]
    },
    {
     "cell_type": "code",
     "collapsed": false,
     "input": [
      "b[0] = 99\n",
      "id(b)"
     ],
     "language": "python",
     "metadata": {},
     "outputs": []
    },
    {
     "cell_type": "code",
     "collapsed": false,
     "input": [
      "print(b)"
     ],
     "language": "python",
     "metadata": {},
     "outputs": []
    },
    {
     "cell_type": "code",
     "collapsed": false,
     "input": [
      "print(a)"
     ],
     "language": "python",
     "metadata": {},
     "outputs": []
    },
    {
     "cell_type": "markdown",
     "metadata": {},
     "source": [
      "So, unlike the case of the 'int' type, when we modified a value of the 'list', a new object was not created. But, did we really change the value of 'a'? Let's play around some more."
     ]
    },
    {
     "cell_type": "code",
     "collapsed": false,
     "input": [
      "type(a[0])"
     ],
     "language": "python",
     "metadata": {},
     "outputs": []
    },
    {
     "cell_type": "code",
     "collapsed": false,
     "input": [
      "print(a[4])"
     ],
     "language": "python",
     "metadata": {},
     "outputs": []
    },
    {
     "cell_type": "code",
     "collapsed": false,
     "input": [
      "id(a[0])"
     ],
     "language": "python",
     "metadata": {},
     "outputs": []
    },
    {
     "cell_type": "code",
     "collapsed": false,
     "input": [
      "a = [6, 7, 8, 9, 10]\n",
      "id(a)"
     ],
     "language": "python",
     "metadata": {},
     "outputs": []
    },
    {
     "cell_type": "code",
     "collapsed": false,
     "input": [
      "id(b)"
     ],
     "language": "python",
     "metadata": {},
     "outputs": []
    },
    {
     "cell_type": "markdown",
     "metadata": {},
     "source": [
      "At this point, it is best to read something like http://www.pixelstech.net/article/1374289694-A-Python-assignment-trap"
     ]
    },
    {
     "cell_type": "markdown",
     "metadata": {},
     "source": [
      "It is worthwhile to read http://eric_rollins.home.mindspring.com/introProgramming/ch8.html in order to understand what we have just observed in our two cases.\n",
      "\n",
      "<b>Having read the links, we now know that objects are either <i>mutable</i> or <i>immutable</i>. Things like integers, floats and strings, are immutable, while things like 'list's are mutable.</b>"
     ]
    },
    {
     "cell_type": "markdown",
     "metadata": {},
     "source": [
      "This distinction is very important to understand, as it will come into play when we pass objects to functions, which then modify the objects inside the function. Whether or not the values are changed after the function call depends on them being mutable or immutable. Eg. A list object that is passed to a function, and modified inside, will be modified after the function call. However, the same thing done to a passed-in int object will not."
     ]
    },
    {
     "cell_type": "code",
     "collapsed": false,
     "input": [
      "def dummy(x):\n",
      "    x = 10\n",
      "\n",
      "def dummy2(x):\n",
      "    x += [10]\n",
      "\n",
      "y = 10\n",
      "dummy(y)\n",
      "print(y)"
     ],
     "language": "python",
     "metadata": {},
     "outputs": []
    },
    {
     "cell_type": "code",
     "collapsed": false,
     "input": [
      "a = [1, 2, 3, 4, 5]\n",
      "dummy2(a)\n",
      "print(a)"
     ],
     "language": "python",
     "metadata": {},
     "outputs": []
    },
    {
     "cell_type": "code",
     "collapsed": false,
     "input": [],
     "language": "python",
     "metadata": {},
     "outputs": []
    }
   ],
   "metadata": {}
  }
 ]
}