{
 "metadata": {
  "name": "",
  "signature": "sha256:2e639ddd886077843a774f1b44ead1591dd51280db067e3cb52bdf7655c9f9d8"
 },
 "nbformat": 3,
 "nbformat_minor": 0,
 "worksheets": [
  {
   "cells": [
    {
     "cell_type": "markdown",
     "metadata": {},
     "source": [
      "Import our packages"
     ]
    },
    {
     "cell_type": "code",
     "collapsed": false,
     "input": [
      "import scipy\n",
      "import scipy.fftpack\n",
      "import scipy.signal\n",
      "import pylab\n",
      "from scipy import pi\n",
      "import numpy"
     ],
     "language": "python",
     "metadata": {},
     "outputs": []
    },
    {
     "cell_type": "heading",
     "level": 4,
     "metadata": {},
     "source": [
      "This shifts an array by n elements"
     ]
    },
    {
     "cell_type": "code",
     "collapsed": false,
     "input": [
      "# Circular shift in place. Positive n shift left.\n",
      "def ShiftInPlace(l, n):\n",
      "    n = n % len(l)\n",
      "    head = l[:n]\n",
      "    l[:n] = []\n",
      "    l.extend(head)\n",
      "    return l"
     ],
     "language": "python",
     "metadata": {},
     "outputs": []
    },
    {
     "cell_type": "heading",
     "level": 4,
     "metadata": {},
     "source": [
      "This performs circular convolution. The boundaries are wrapped around."
     ]
    },
    {
     "cell_type": "code",
     "collapsed": false,
     "input": [
      "# Circular convolution.\n",
      "def CircularConvolution(h, filt):\n",
      "\tout = []\n",
      "\tM = (len(filt)-1)/2 # Filter is assumed to be odd\n",
      "\tfor n in range(0, len(h)):\n",
      "\t\tsumn = 0\n",
      "\t\ta = n - M\n",
      "\t\t#b = n + M\n",
      "\t\tfor m in range(0, len(filt)):\n",
      "\t\t\tif a+m >= len(h):\n",
      "\t\t\t\tsumn += h[a+m-len(h)]*filt[m]\n",
      "\t\t\t\t#print a+m-len(h)\n",
      "\t\t\telse:\n",
      "\t\t\t\tsumn += h[a+m]*filt[m]\n",
      "\t\t\t\t#print a+m\n",
      "\t\tout.append(sumn)\n",
      "\treturn scipy.array(ShiftInPlace(out,M/4))"
     ],
     "language": "python",
     "metadata": {},
     "outputs": []
    },
    {
     "cell_type": "heading",
     "level": 3,
     "metadata": {},
     "source": [
      "The bandpass filter is formed from the difference of two sinc functions.\n",
      "\n",
      "M has to be an add number. ft1 is the lower normalized frequency, and ft2 is the higher normalized frequency."
     ]
    },
    {
     "cell_type": "code",
     "collapsed": false,
     "input": [
      "# Create the filter\n",
      "def BandpassFilter(M, ft1, ft2):\n",
      "\tout = []\n",
      "\tfor n in range(0, M):\n",
      "\t\tif n != M/2:\n",
      "\t\t\tv = scipy.sin(2.0*scipy.pi*ft2*(n-M/2)) / (scipy.pi*(n-M/2)) - scipy.sin(2.0*scipy.pi*ft1*(n-M/2)) / (scipy.pi*(n-M/2))\n",
      "\t\telse:\n",
      "\t\t\tv = 2.0*(ft2-ft1)\n",
      "\t   \tout.append(v)\n",
      "\treturn out"
     ],
     "language": "python",
     "metadata": {},
     "outputs": []
    },
    {
     "cell_type": "heading",
     "level": 3,
     "metadata": {},
     "source": [
      "We can use an assortment of basic filter windows. The code below uses the Blackman filter, which seems to be the 'best'"
     ]
    },
    {
     "cell_type": "code",
     "collapsed": false,
     "input": [
      "# Create the window\n",
      "def FilterWindow(M, windowType):\n",
      "\tn = scipy.array(range(0,M))\n",
      "\tif windowType == 'bartlett':\n",
      "\t\twin = 1.0 - 2.0*abs(n-M/2)/M;\n",
      "\telif windowType == 'blackman':\n",
      "\t\twin = 0.42 - 0.5*scipy.cos(2*scipy.pi*n/M) + 0.08*scipy.cos(4*scipy.pi*n/M);\n",
      "\telif windowType == 'hamming':\n",
      "\t\twin = 0.54 - 0.46*scipy.cos(2*scipy.pi*n/M);\n",
      "\telif windowType == 'hanning':\n",
      "\t\twin = 0.50 - 0.50*scipy.cos(2*scipy.pi*n/M);\n",
      "\telse:\n",
      "\t\t# windowType == 'rectangular'\n",
      "\t\twin = scipy.ones(M+1);\n",
      "\treturn win"
     ],
     "language": "python",
     "metadata": {},
     "outputs": []
    },
    {
     "cell_type": "code",
     "collapsed": false,
     "input": [
      "# Obtain LIGO noise kernel\n",
      "# M-1 is the size of the filter. M should be odd. FIXME!\n",
      "def LigoNoiseKernel(fs, M):\n",
      "\tDATAFILE = 'ligostrainpoints.csv'\n",
      "\tfrequency, psdpoints = numpy.loadtxt(DATAFILE,unpack=True)\n",
      "\t# Set all of the initial magnitudes to a constant low value\n",
      "\tpsdpoints[0:50] = psdpoints[50];\n",
      "\n",
      "\t# We need to have a 0 Hz value\n",
      "\tfrequency = numpy.insert(frequency, 0, 0.0)\n",
      "\tpsdpoints = numpy.insert(psdpoints, 0, psdpoints[0])\n",
      "\n",
      "\tfunc = scipy.interpolate.interp1d(frequency, psdpoints)\n",
      "\tf = scipy.linspace(0.0, fs/2.0, (M+1)/2)\n",
      "\tpsd = func(f)\n",
      "\tresponse = scipy.sqrt(psd)\n",
      "\tresponset = response[1:(len(response)-1)]\n",
      "\tresponsear = responset[::-1]\n",
      "\tresponsesym = numpy.append(response, responsear)\n",
      "\tnoiseKernel = scipy.real(scipy.ifft(responsesym))\n",
      "\tnoiseKernelu = numpy.append(noiseKernel[(M+1)/2:M+1], noiseKernel[0:(M+1)/2])\n",
      "\treturn noiseKernelu"
     ],
     "language": "python",
     "metadata": {},
     "outputs": []
    },
    {
     "cell_type": "code",
     "collapsed": false,
     "input": [
      "# PROGRAM PARAMETERS\n",
      "FILTERLENGTH = 41\n",
      "SAMPLINGFREQUENCY = 4096.0\n",
      "NYQUISTFREQUENCY = SAMPLINGFREQUENCY / 2.0\n",
      "NUMSAMPLES = 1024\n",
      "CUTOFFFREQUENCYLOW =  250.0 #0.3*NYQUISTFREQUENCY # Hz\n",
      "CUTOFFFREQUENCYHIGH = 300.0 #0.5*NYQUISTFREQUENCY # Hz\n",
      "SIGNALFREQUENCY = CUTOFFFREQUENCYLOW + 0.5*(CUTOFFFREQUENCYHIGH - CUTOFFFREQUENCYLOW)\n",
      "SIGNALAMPLITUDE = 1.0e-13\n",
      "WINDOWTYPE = 'blackman'"
     ],
     "language": "python",
     "metadata": {},
     "outputs": []
    },
    {
     "cell_type": "code",
     "collapsed": false,
     "input": [
      "# Create the sample times\n",
      "t = scipy.linspace(0,NUMSAMPLES/SAMPLINGFREQUENCY,NUMSAMPLES)"
     ],
     "language": "python",
     "metadata": {},
     "outputs": []
    },
    {
     "cell_type": "code",
     "collapsed": false,
     "input": [
      "# Create the noise samples\n",
      "noiseu = scipy.randn(NUMSAMPLES);\n",
      "noiseKernel = LigoNoiseKernel(SAMPLINGFREQUENCY, FILTERLENGTH)\n",
      "scale = 1.0 / scipy.sqrt(NUMSAMPLES)\n",
      "noise = CircularConvolution(noiseu, noiseKernel*scale)"
     ],
     "language": "python",
     "metadata": {},
     "outputs": []
    },
    {
     "cell_type": "code",
     "collapsed": false,
     "input": [
      "# Create the signal samples\n",
      "signalPure = SIGNALAMPLITUDE*scipy.sin(2.0*scipy.pi*SIGNALFREQUENCY*t) #*scipy.sin(2.0*scipy.pi*4.0*t)\n",
      "signal = signalPure + noise"
     ],
     "language": "python",
     "metadata": {},
     "outputs": []
    },
    {
     "cell_type": "code",
     "collapsed": false,
     "input": [
      "# Compute the fourier transorms\n",
      "fftSignalPure = abs(scipy.fft(signalPure))\n",
      "fftSignal = abs(scipy.fft(signal))\n",
      "freqs = scipy.fftpack.fftfreq(signal.size, t[1]-t[0])"
     ],
     "language": "python",
     "metadata": {},
     "outputs": []
    },
    {
     "cell_type": "code",
     "collapsed": false,
     "input": [
      "# Filter the noisy signal\n",
      "# Normalized cutoff frequencies\n",
      "ft1 = CUTOFFFREQUENCYLOW / SAMPLINGFREQUENCY\n",
      "ft2 = CUTOFFFREQUENCYHIGH / SAMPLINGFREQUENCY\n",
      "M = FILTERLENGTH-1\n",
      "filt = BandpassFilter(M, ft1, ft2)\n",
      "win = FilterWindow(M, WINDOWTYPE)\n",
      "filtwin = filt*win\n",
      "fftFiltwin = abs(scipy.fft(filtwin))\n",
      "#signalFiltered = scipy.signal.convolve(signal, filtwin, mode='valid')\n",
      "#signalFiltered = scipy.signal.filtfilt(filtwin, 1, signal)\n",
      "#signalFiltered = CircularConvolution(signal, filtwin/sum(filtwin))\n",
      "signalFiltered = CircularConvolution(signal, filtwin)\n",
      "fftSignalFiltered = abs(scipy.fft(signalFiltered))"
     ],
     "language": "python",
     "metadata": {},
     "outputs": []
    },
    {
     "cell_type": "code",
     "collapsed": false,
     "input": [
      "# Plot the results\n",
      "pylab.figure(figsize=(20, 20)) # This increases resolution\n",
      "#pylab.figure()\n",
      "#pylab.clf()"
     ],
     "language": "python",
     "metadata": {},
     "outputs": []
    },
    {
     "cell_type": "code",
     "collapsed": false,
     "input": [
      "# Pure signal\n",
      "#pylab.subplot(421)\n",
      "pylab.figure(figsize=(20, 20)) # This increases resolution\n",
      "pylab.plot(t, signalPure,'b-')\n",
      "pylab.xlabel('t')\n",
      "pylab.ylabel('s(t)')\n",
      "pylab.title('Pure signal')\n",
      "pylab.grid(1)\n",
      "pylab.show()"
     ],
     "language": "python",
     "metadata": {},
     "outputs": []
    },
    {
     "cell_type": "code",
     "collapsed": false,
     "input": [
      "#pylab.subplot(422)\n",
      "pylab.figure(figsize=(20, 20)) # This increases resolution\n",
      "\n",
      "pylab.plot(freqs,fftSignalPure,'r-')\n",
      "pylab.xlabel('f')\n",
      "pylab.ylabel('fft(s(t))')\n",
      "pylab.title('Spectrum of pure signal')\n",
      "pylab.grid(1)\n",
      "pylab.show()"
     ],
     "language": "python",
     "metadata": {},
     "outputs": []
    },
    {
     "cell_type": "code",
     "collapsed": false,
     "input": [
      "# Signal plus noise\n",
      "#pylab.subplot(423)\n",
      "pylab.figure(figsize=(20, 20)) # This increases resolution\n",
      "\n",
      "pylab.plot(t, signal,'b-')\n",
      "pylab.xlabel('t')\n",
      "pylab.ylabel('s(t)')\n",
      "pylab.title('Signal plus noise')\n",
      "pylab.grid(1)\n",
      "pylab.show()"
     ],
     "language": "python",
     "metadata": {},
     "outputs": []
    },
    {
     "cell_type": "code",
     "collapsed": false,
     "input": [
      "#pylab.subplot(424)\n",
      "pylab.figure(figsize=(20, 20)) # This increases resolution\n",
      "\n",
      "pylab.plot(freqs,fftSignal,'r-')\n",
      "pylab.xlabel('f')\n",
      "pylab.ylabel('fft(s(t))')\n",
      "pylab.title('Spectrum of signal plus noise')\n",
      "pylab.grid(1)\n",
      "pylab.show()"
     ],
     "language": "python",
     "metadata": {},
     "outputs": []
    },
    {
     "cell_type": "code",
     "collapsed": false,
     "input": [
      "# The filter\n",
      "#pylab.subplot(425)\n",
      "pylab.figure(figsize=(20, 20)) # This increases resolution\n",
      "\n",
      "pylab.plot(filtwin,'b-')\n",
      "pylab.xlabel('t')\n",
      "pylab.ylabel('s(t)')\n",
      "pylab.title('Filter')\n",
      "pylab.grid(1)\n",
      "pylab.show()"
     ],
     "language": "python",
     "metadata": {},
     "outputs": []
    },
    {
     "cell_type": "code",
     "collapsed": false,
     "input": [
      "#pylab.subplot(426)\n",
      "pylab.figure(figsize=(20, 20)) # This increases resolution\n",
      "\n",
      "freqsFilt = scipy.fftpack.fftfreq(fftFiltwin.size, t[1]-t[0])\n",
      "pylab.plot(freqsFilt, fftFiltwin,'r-')\n",
      "pylab.xlabel('f')\n",
      "pylab.ylabel('fft(s(t))')\n",
      "pylab.title('Spectrum of filter')\n",
      "pylab.grid(1)\n",
      "pylab.show()"
     ],
     "language": "python",
     "metadata": {},
     "outputs": []
    },
    {
     "cell_type": "code",
     "collapsed": false,
     "input": [
      "# Filterd signal + noise\n",
      "pylab.figure(figsize=(20, 20)) # This increases resolution\n",
      "\n",
      "#r = range(0, len(signalFiltered)-1)\n",
      "freqsNew = scipy.fftpack.fftfreq(signalFiltered.size, t[1]-t[0])\n",
      "tNew = t[range(0,len(signalFiltered))]\n",
      "#pylab.subplot(427)\n",
      "pylab.plot(tNew, signalFiltered,'b-')\n",
      "pylab.xlabel('t')\n",
      "pylab.ylabel('s(t)')\n",
      "pylab.title('Filtered signal plus noise')\n",
      "pylab.grid(1)\n",
      "pylab.show()"
     ],
     "language": "python",
     "metadata": {},
     "outputs": []
    },
    {
     "cell_type": "code",
     "collapsed": false,
     "input": [
      "#pylab.subplot(428)\n",
      "pylab.figure(figsize=(20, 20)) # This increases resolution\n",
      "\n",
      "pylab.plot(freqsNew, fftSignalFiltered,'r-')\n",
      "pylab.xlabel('f')\n",
      "pylab.ylabel('fft(s(t))')\n",
      "pylab.title('Spectrum of filtered signal plus noise')\n",
      "pylab.grid(1)\n",
      "pylab.show()\n"
     ],
     "language": "python",
     "metadata": {},
     "outputs": []
    },
    {
     "cell_type": "code",
     "collapsed": false,
     "input": [],
     "language": "python",
     "metadata": {},
     "outputs": []
    }
   ],
   "metadata": {}
  }
 ]
}