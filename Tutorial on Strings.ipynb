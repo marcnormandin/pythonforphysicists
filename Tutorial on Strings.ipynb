{
 "metadata": {
  "name": "",
  "signature": "sha256:0669324ed2dc45d8e9524888dea98516724c974e0b801e0c0aa32da49a22e80b"
 },
 "nbformat": 3,
 "nbformat_minor": 0,
 "worksheets": [
  {
   "cells": [
    {
     "cell_type": "heading",
     "level": 1,
     "metadata": {},
     "source": [
      "Basics of Strings"
     ]
    },
    {
     "cell_type": "markdown",
     "metadata": {},
     "source": [
      "Reference: http://docs.python.org/2/tutorial/introduction.html"
     ]
    },
    {
     "cell_type": "heading",
     "level": 2,
     "metadata": {},
     "source": [
      "Concatenation"
     ]
    },
    {
     "cell_type": "code",
     "collapsed": false,
     "input": [
      "p = 'hello'\n",
      "q = \"hello\""
     ],
     "language": "python",
     "metadata": {},
     "outputs": []
    },
    {
     "cell_type": "code",
     "collapsed": false,
     "input": [
      "s = 'jones'\n",
      "print(s)"
     ],
     "language": "python",
     "metadata": {},
     "outputs": []
    },
    {
     "cell_type": "code",
     "collapsed": false,
     "input": [
      "print( 'jon' 'es' )"
     ],
     "language": "python",
     "metadata": {},
     "outputs": []
    },
    {
     "cell_type": "code",
     "collapsed": false,
     "input": [
      "print( 'jon' + 'es' )"
     ],
     "language": "python",
     "metadata": {},
     "outputs": []
    },
    {
     "cell_type": "code",
     "collapsed": false,
     "input": [
      "print( 'jon'.strip() + 'es' )"
     ],
     "language": "python",
     "metadata": {},
     "outputs": []
    },
    {
     "cell_type": "code",
     "collapsed": false,
     "input": [
      "print( 'jon'.strip() )"
     ],
     "language": "python",
     "metadata": {},
     "outputs": []
    },
    {
     "cell_type": "code",
     "collapsed": false,
     "input": [
      "'jon\\t'.strip()"
     ],
     "language": "python",
     "metadata": {},
     "outputs": []
    },
    {
     "cell_type": "heading",
     "level": 2,
     "metadata": {},
     "source": [
      "Indexing"
     ]
    },
    {
     "cell_type": "markdown",
     "metadata": {},
     "source": [
      "This will be our example string"
     ]
    },
    {
     "cell_type": "code",
     "collapsed": false,
     "input": [
      "s = 'this is a string'\n",
      "print(s)"
     ],
     "language": "python",
     "metadata": {},
     "outputs": []
    },
    {
     "cell_type": "markdown",
     "metadata": {},
     "source": [
      "They can be sliced from 0 to the length"
     ]
    },
    {
     "cell_type": "code",
     "collapsed": false,
     "input": [
      "print( s[0:len(s)] )"
     ],
     "language": "python",
     "metadata": {},
     "outputs": []
    },
    {
     "cell_type": "markdown",
     "metadata": {},
     "source": [
      "Omitting the first value defaults to 0"
     ]
    },
    {
     "cell_type": "code",
     "collapsed": false,
     "input": [
      "print( s[:len(s)] )"
     ],
     "language": "python",
     "metadata": {},
     "outputs": []
    },
    {
     "cell_type": "markdown",
     "metadata": {},
     "source": [
      "Omitting the last value default to the full length"
     ]
    },
    {
     "cell_type": "code",
     "collapsed": false,
     "input": [
      "print( s[0:] )"
     ],
     "language": "python",
     "metadata": {},
     "outputs": []
    },
    {
     "cell_type": "markdown",
     "metadata": {},
     "source": [
      "We can omit both"
     ]
    },
    {
     "cell_type": "code",
     "collapsed": false,
     "input": [
      "print( s[:] )"
     ],
     "language": "python",
     "metadata": {},
     "outputs": []
    },
    {
     "cell_type": "markdown",
     "metadata": {},
     "source": [
      "Combine slicing with concatenation"
     ]
    },
    {
     "cell_type": "code",
     "collapsed": false,
     "input": [
      "n = 3\n",
      "print( s[:n] + s[n:] )"
     ],
     "language": "python",
     "metadata": {},
     "outputs": []
    },
    {
     "cell_type": "markdown",
     "metadata": {},
     "source": [
      "Negative indexing"
     ]
    },
    {
     "cell_type": "raw",
     "metadata": {},
     "source": [
      " +---+---+---+---+---+\n",
      " | H | e | l | p | A |\n",
      " +---+---+---+---+---+\n",
      " 0   1   2   3   4   5\n",
      "-5  -4  -3  -2  -1"
     ]
    }
   ],
   "metadata": {}
  }
 ]
}