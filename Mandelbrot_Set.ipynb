{
 "metadata": {
  "name": "",
  "signature": "sha256:6a869784895ee80af6d45dbefcc4630be5930afa2ba66974f66e79b520ab54e5"
 },
 "nbformat": 3,
 "nbformat_minor": 0,
 "worksheets": [
  {
   "cells": [
    {
     "cell_type": "code",
     "collapsed": false,
     "input": [
      "import matplotlib.pyplot as plt\n",
      "import numpy as np"
     ],
     "language": "python",
     "metadata": {},
     "outputs": []
    },
    {
     "cell_type": "code",
     "collapsed": false,
     "input": [
      "a = np.linspace(1,10,10)\n",
      "type(a)"
     ],
     "language": "python",
     "metadata": {},
     "outputs": []
    },
    {
     "cell_type": "code",
     "collapsed": false,
     "input": [
      "b = [1, 2,3]\n",
      "type(b)"
     ],
     "language": "python",
     "metadata": {},
     "outputs": []
    },
    {
     "cell_type": "code",
     "collapsed": false,
     "input": [
      "for (i = 0; i < N; i++)\n",
      "    xn = xarray[i]\n",
      "    "
     ],
     "language": "python",
     "metadata": {},
     "outputs": []
    },
    {
     "cell_type": "code",
     "collapsed": false,
     "input": [
      "# Python for Physicists\n",
      "# Source was modified from psuedocode found at:\n",
      "# http://en.wikipedia.org/wiki/Mandelbrot_set\n",
      "#\n",
      "# Mandelbrot Set\n",
      "\n",
      "\n",
      "def mandelbrot_set(xa = np.linspace(-2.5,1.0,50), ya = np.linspace(-1.0, 1.0, 50)):\n",
      "    colours = np.ndarray([len(ya), len(xa)])\n",
      "    \n",
      "    # Loop over each pixel\n",
      "    for xn, x0 in enumerate(xa):\n",
      "        for yn, y0 in enumerate(ya):\n",
      "            x = 0.0\n",
      "            y = 0.0\n",
      "            iteration = 0\n",
      "            max_iteration = 1000\n",
      "            while ( x*x + y*y < 2*2  and  iteration < max_iteration ):\n",
      "                xtemp = x*x - y*y + x0\n",
      "                y = 2.0*x*y + y0\n",
      "                x = xtemp\n",
      "                iteration = iteration + 1\n",
      "            colours[yn,xn] = iteration\n",
      "    \n",
      "    return colours"
     ],
     "language": "python",
     "metadata": {},
     "outputs": []
    },
    {
     "cell_type": "code",
     "collapsed": false,
     "input": [
      "colours = mandelbrot_set()"
     ],
     "language": "python",
     "metadata": {},
     "outputs": []
    },
    {
     "cell_type": "code",
     "collapsed": false,
     "input": [
      "imshow(colours)"
     ],
     "language": "python",
     "metadata": {},
     "outputs": []
    },
    {
     "cell_type": "code",
     "collapsed": false,
     "input": [
      "xa = np.linspace(0.35, 0.355, 200)\n",
      "ya = np.linspace(0.355, 0.36, 200)\n",
      "colours = mandelbrot_set(xa, ya)"
     ],
     "language": "python",
     "metadata": {},
     "outputs": []
    },
    {
     "cell_type": "code",
     "collapsed": false,
     "input": [
      "imshow(colours,aspect='auto',origin='lower',extent=(xa.min(),xa.max(), ya.min(), ya.max()));"
     ],
     "language": "python",
     "metadata": {},
     "outputs": []
    },
    {
     "cell_type": "code",
     "collapsed": false,
     "input": [
      "pcolor(colours)"
     ],
     "language": "python",
     "metadata": {},
     "outputs": []
    },
    {
     "cell_type": "code",
     "collapsed": false,
     "input": [
      "def colours = mandelbrot_set_matrix():\n",
      "    "
     ],
     "language": "python",
     "metadata": {},
     "outputs": []
    }
   ],
   "metadata": {}
  }
 ]
}