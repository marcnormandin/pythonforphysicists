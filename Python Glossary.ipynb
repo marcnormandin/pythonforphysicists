{
 "metadata": {
  "name": "",
  "signature": "sha256:c9a66c72b78a059cc60b6f799f1f1876fd7aabcd8aabe088849a97f576ebf9b6"
 },
 "nbformat": 3,
 "nbformat_minor": 0,
 "worksheets": [
  {
   "cells": [
    {
     "cell_type": "markdown",
     "metadata": {},
     "source": [
      "Some interesting things found while reading the Python v2 Glossary: http://docs.python.org/2/glossary.html#glossary"
     ]
    },
    {
     "cell_type": "heading",
     "level": 2,
     "metadata": {},
     "source": [
      "Zen of Python"
     ]
    },
    {
     "cell_type": "code",
     "collapsed": false,
     "input": [
      "import this"
     ],
     "language": "python",
     "metadata": {},
     "outputs": []
    },
    {
     "cell_type": "heading",
     "level": 2,
     "metadata": {},
     "source": [
      "Division operators"
     ]
    },
    {
     "cell_type": "markdown",
     "metadata": {},
     "source": [
      "The next line divides a float by an integer"
     ]
    },
    {
     "cell_type": "code",
     "collapsed": false,
     "input": [
      "x = 11.0 / 4\n",
      "print(x)"
     ],
     "language": "python",
     "metadata": {},
     "outputs": []
    },
    {
     "cell_type": "markdown",
     "metadata": {},
     "source": [
      "The next line shows <i>forced floor division</i>"
     ]
    },
    {
     "cell_type": "code",
     "collapsed": false,
     "input": [
      "x = 11.0 // 4\n",
      "print(y)"
     ],
     "language": "python",
     "metadata": {},
     "outputs": []
    },
    {
     "cell_type": "markdown",
     "metadata": {},
     "source": [
      "And again, but this time using a negative numerator. Note the difference."
     ]
    },
    {
     "cell_type": "code",
     "collapsed": false,
     "input": [
      "x = -11.0 // 4\n",
      "print(x)"
     ],
     "language": "python",
     "metadata": {},
     "outputs": []
    },
    {
     "cell_type": "heading",
     "level": 2,
     "metadata": {},
     "source": [
      "Example of a <i>Generator expression</i>"
     ]
    },
    {
     "cell_type": "code",
     "collapsed": false,
     "input": [
      "sum(i*i for i in range(10))"
     ],
     "language": "python",
     "metadata": {},
     "outputs": []
    },
    {
     "cell_type": "heading",
     "level": 2,
     "metadata": {},
     "source": [
      "Mutable vs Immutable objects"
     ]
    },
    {
     "cell_type": "markdown",
     "metadata": {},
     "source": [
      "Objects are either mutable or immutable. Objects with a fixed value are <i>immutable</i>, while objects that change their value but keep their id() are <i>mutable</i>. In usage, immutable objects can be used as <i>keys</i> for dictionaries, but mutable objects can not.\n",
      "\n",
      "Example of immutable objects: numbers, string, and tubles.\n",
      "Example of mutable objects: lists, dictionaries?"
     ]
    },
    {
     "cell_type": "heading",
     "level": 2,
     "metadata": {},
     "source": [
      "Remember to use <i>help(x)</i>"
     ]
    },
    {
     "cell_type": "heading",
     "level": 2,
     "metadata": {},
     "source": [
      "List Comprehension"
     ]
    },
    {
     "cell_type": "markdown",
     "metadata": {},
     "source": [
      "From the gloassary: A compact way to process all or part of the elements in a sequence and return a list with the results. result = [\"0x%02x\" % x for x in range(256) if x % 2 == 0] generates a list of strings containing even hex numbers (0x..) in the range from 0 to 255. The if clause is optional. If omitted, all elements in range(256) are processed."
     ]
    },
    {
     "cell_type": "code",
     "collapsed": false,
     "input": [
      "result = [\"0x%02x\" % x for x in range(256) if x % 2 == 0]\n",
      "print(result)"
     ],
     "language": "python",
     "metadata": {},
     "outputs": []
    },
    {
     "cell_type": "heading",
     "level": 2,
     "metadata": {},
     "source": [
      "Named Tuple"
     ]
    },
    {
     "cell_type": "code",
     "collapsed": false,
     "input": [
      "def Employee(title, name):\n",
      "    print(name + \" is a \" + title)\n",
      "\n",
      "Employee(name='jones', title='programmer')"
     ],
     "language": "python",
     "metadata": {},
     "outputs": []
    },
    {
     "cell_type": "heading",
     "level": 2,
     "metadata": {},
     "source": [
      "Var-positional function parameter"
     ]
    },
    {
     "cell_type": "code",
     "collapsed": false,
     "input": [
      "def func(*args, **kwargs):\n",
      "    print(args[0])\n",
      "    \n",
      "s = ['jones', 'programmer']\n",
      "func(s)"
     ],
     "language": "python",
     "metadata": {},
     "outputs": []
    },
    {
     "cell_type": "markdown",
     "metadata": {},
     "source": [
      "The above example needs improvement."
     ]
    },
    {
     "cell_type": "heading",
     "level": 2,
     "metadata": {},
     "source": [
      "Reference count"
     ]
    },
    {
     "cell_type": "code",
     "collapsed": false,
     "input": [
      "import sys\n",
      "\n",
      "x = 1235\n",
      "y = x\n",
      "z = x\n",
      "\n",
      "print('x has id = ' + str(id(x)))\n",
      "print('y has id = ' + str(id(y)))\n",
      "print('z has id = ' + str(id(z)))\n",
      "\n",
      "print('There are ' + str(sys.getrefcount(x)) + \" references to the object.\")\n"
     ],
     "language": "python",
     "metadata": {},
     "outputs": []
    },
    {
     "cell_type": "markdown",
     "metadata": {},
     "source": [
      "I'm not sure why it has 5 references. Does anyone else know?"
     ]
    },
    {
     "cell_type": "heading",
     "level": 2,
     "metadata": {},
     "source": [
      "Type"
     ]
    },
    {
     "cell_type": "markdown",
     "metadata": {},
     "source": [
      "From the glossary: The type of a Python object determines what kind of object it is; every object has a type. An object\u2019s type is accessible as its __class__ attribute or can be retrieved with type(obj)."
     ]
    },
    {
     "cell_type": "code",
     "collapsed": false,
     "input": [
      "w = [1, 2, 3]\n",
      "x = 1\n",
      "y = 2.0\n",
      "z = 'jones'"
     ],
     "language": "python",
     "metadata": {},
     "outputs": []
    },
    {
     "cell_type": "code",
     "collapsed": false,
     "input": [
      "type(w)"
     ],
     "language": "python",
     "metadata": {},
     "outputs": []
    },
    {
     "cell_type": "code",
     "collapsed": false,
     "input": [
      "type(x)"
     ],
     "language": "python",
     "metadata": {},
     "outputs": []
    },
    {
     "cell_type": "code",
     "collapsed": false,
     "input": [
      "type(y)"
     ],
     "language": "python",
     "metadata": {},
     "outputs": []
    },
    {
     "cell_type": "code",
     "collapsed": false,
     "input": [
      "type(z)"
     ],
     "language": "python",
     "metadata": {},
     "outputs": []
    },
    {
     "cell_type": "code",
     "collapsed": false,
     "input": [],
     "language": "python",
     "metadata": {},
     "outputs": []
    }
   ],
   "metadata": {}
  }
 ]
}