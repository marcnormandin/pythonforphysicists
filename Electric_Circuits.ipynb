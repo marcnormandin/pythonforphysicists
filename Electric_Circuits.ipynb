{
 "metadata": {
  "name": "",
  "signature": "sha256:1303c0574a1eade1b44d6e3633dd1784b351fc39dfa16fbd7c5987a95b5f4809"
 },
 "nbformat": 3,
 "nbformat_minor": 0,
 "worksheets": [
  {
   "cells": [
    {
     "cell_type": "code",
     "collapsed": false,
     "input": [
      "class Component:\n",
      "    \"\"\"Base class of all circuit components like resistors, capacitors, etc\"\"\"\n",
      "    pointA = 0\n",
      "    pointB = 0\n",
      "    \n",
      "    def __init__(self, pointA = 0, pointB = 0):\n",
      "        self.pointA = pointA\n",
      "        self.pointB = pointB\n",
      "        \n",
      "    def getPointA(self):\n",
      "        return pointA\n",
      "    \n",
      "    def setPointA(self, newPointA):\n",
      "        self.pointA = newPointA\n",
      "        \n",
      "    def getPointB(self):\n",
      "        return self.pointB\n",
      "    \n",
      "    def setPointB(self, newPointB):\n",
      "        return self.pointB = newPointB\n",
      "\n",
      "\n",
      "class Resistor(Component):\n",
      "    \"\"\"Resistor\"\"\"\n",
      "    \n",
      "    def __init__(self, pointA=0, pointB=0):\n",
      "        SuperClass.__init__(self, pointA, pointB)\n",
      "        \n",
      "    "
     ],
     "language": "python",
     "metadata": {},
     "outputs": []
    }
   ],
   "metadata": {}
  }
 ]
}