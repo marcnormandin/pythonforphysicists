{
 "metadata": {
  "name": "",
  "signature": "sha256:79f8627fec33f5889563c91f8229c352d4c80dc874bb0d6cda43a6e762be996e"
 },
 "nbformat": 3,
 "nbformat_minor": 0,
 "worksheets": [
  {
   "cells": [
    {
     "cell_type": "heading",
     "level": 1,
     "metadata": {},
     "source": [
      "This notework will demonstrate the basics of plotting using the package matplotlib. You will learn that Matplotlib emulates plotting in Matlab.\n",
      "\n"
     ]
    },
    {
     "cell_type": "heading",
     "level": 4,
     "metadata": {},
     "source": [
      "Import the packages so that we can use their functions"
     ]
    },
    {
     "cell_type": "code",
     "collapsed": false,
     "input": [
      "import numpy as np\n",
      "import matplotlib.mlab as mlab\n",
      "import matplotlib.pyplot as plt"
     ],
     "language": "python",
     "metadata": {},
     "outputs": []
    },
    {
     "cell_type": "heading",
     "level": 4,
     "metadata": {},
     "source": [
      "Create some data to plot"
     ]
    },
    {
     "cell_type": "code",
     "collapsed": false,
     "input": [
      "x = np.linspace(-1, 1, 10)\n",
      "print x\n"
     ],
     "language": "python",
     "metadata": {},
     "outputs": []
    },
    {
     "cell_type": "code",
     "collapsed": false,
     "input": [
      "y = x ** 2 # y = x^2\n",
      "print y"
     ],
     "language": "python",
     "metadata": {},
     "outputs": []
    },
    {
     "cell_type": "code",
     "collapsed": false,
     "input": [
      "line, = plt.plot(x, y, '--', linewidth=2)\n",
      "plt.title(r'Python for Physicsts$^{TM}$')\n",
      "plt.xlabel('x') # Assign labels to the axes\n",
      "plt.ylabel(r'$\\alpha^2$') # You can use latex math by using the r'$ latex $  form.\n",
      "legend([line], [\"Ipsum tiberius\"])\n",
      "plt.grid(True)  # By default there is no grid"
     ],
     "language": "python",
     "metadata": {},
     "outputs": []
    },
    {
     "cell_type": "code",
     "collapsed": false,
     "input": [
      "dashes = [10, 5, 100, 5] # 10 points on, 5 off, 100 on, 5 off\n",
      "line.set_dashes(dashes)"
     ],
     "language": "python",
     "metadata": {},
     "outputs": []
    },
    {
     "cell_type": "code",
     "collapsed": false,
     "input": [
      "plt.show() # This doesn't appear to do anything in the notebook, but it does in a script."
     ],
     "language": "python",
     "metadata": {},
     "outputs": []
    },
    {
     "cell_type": "code",
     "collapsed": false,
     "input": [
      "dir(plt) # This shows everything available in pyplot. You can see the \"errorbar\" plot, for example."
     ],
     "language": "python",
     "metadata": {},
     "outputs": []
    },
    {
     "cell_type": "code",
     "collapsed": false,
     "input": [
      "dir(line)"
     ],
     "language": "python",
     "metadata": {},
     "outputs": []
    }
   ],
   "metadata": {}
  }
 ]
}