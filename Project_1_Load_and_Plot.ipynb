{
 "metadata": {
  "name": "",
  "signature": "sha256:31ce1465efcdeeb5649cb64d7feebcc0332c1c6e3a52d528d99c0a1f51935a92"
 },
 "nbformat": 3,
 "nbformat_minor": 0,
 "worksheets": [
  {
   "cells": [
    {
     "cell_type": "heading",
     "level": 1,
     "metadata": {},
     "source": [
      "In this project we will load data from a file, and then plot it"
     ]
    },
    {
     "cell_type": "code",
     "collapsed": false,
     "input": [
      "import exceptions\n",
      "import numpy as np\n",
      "import scipy\n",
      "import matplotlib.pylab as plt\n",
      "import csv\n",
      "\n",
      "def load_data( filename, delim, has_headers = False ):\n",
      "    \"\"\"Loads the data from the file into memory\"\"\"\n",
      "    good_data = []\n",
      "    header = []\n",
      "    # This is from the python documentation\n",
      "    with open( filename, 'rb') as csvfile:\n",
      "        processed_headers = False\n",
      "        spamreader = csv.reader(csvfile, delimiter=delim, quotechar='|')\n",
      "        for row in spamreader:\n",
      "            if processed_headers == False and has_headers:\n",
      "                header = row\n",
      "                processed_headers = True\n",
      "            else:\n",
      "                is_valid_row = True\n",
      "                # For each entry, try to convert the string to a float,\n",
      "                # if the conversion fails, it calls the exception handler\n",
      "                # and then we set the entire row to being bad\n",
      "                valid_row = []\n",
      "                for entry in row:\n",
      "                    try:\n",
      "                        e = float(entry)\n",
      "                        valid_row.append(e)\n",
      "                    except exceptions.ValueError:\n",
      "                        is_valid_row = False\n",
      "                        #print(entry + \" is not real.\\n\")\n",
      "                        break\n",
      "                        \n",
      "                # Only if there are no invalid entries for the row do we keep it\n",
      "                if (is_valid_row):\n",
      "                    good_data.append(valid_row)\n",
      "    \n",
      "    # Now turn the data into a dictionary\n",
      "    data = {}\n",
      "    for n in range(len(header)):\n",
      "        column_data = []\n",
      "        for row in good_data:\n",
      "            column_data.append(row[n])\n",
      "            # Each label for the column heading is quoted, so we remove the quotes\n",
      "        data[header[n][1:-1]] = column_data\n",
      "    return data"
     ],
     "language": "python",
     "metadata": {},
     "outputs": []
    },
    {
     "cell_type": "code",
     "collapsed": false,
     "input": [
      "s = '\"Ozone\"'\n",
      "print ( s[:-1] )\n",
      "print( s[1:-1] )"
     ],
     "language": "python",
     "metadata": {},
     "outputs": []
    },
    {
     "cell_type": "code",
     "collapsed": false,
     "input": [
      "data = load_data( \"sample_data.csv\", \",\", True )"
     ],
     "language": "python",
     "metadata": {},
     "outputs": []
    },
    {
     "cell_type": "code",
     "collapsed": false,
     "input": [
      "data.keys()"
     ],
     "language": "python",
     "metadata": {},
     "outputs": []
    },
    {
     "cell_type": "code",
     "collapsed": false,
     "input": [
      "plt.plot(data[\"Day\"], data[\"Temp\"], 'r*')"
     ],
     "language": "python",
     "metadata": {},
     "outputs": []
    },
    {
     "cell_type": "code",
     "collapsed": false,
     "input": [],
     "language": "python",
     "metadata": {},
     "outputs": []
    }
   ],
   "metadata": {}
  }
 ]
}