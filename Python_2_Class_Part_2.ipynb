{
 "metadata": {
  "name": "",
  "signature": "sha256:768a93e9f44fdc32010df4038c96faaa8043d3a838e699e9d79ea0cbac335215"
 },
 "nbformat": 3,
 "nbformat_minor": 0,
 "worksheets": [
  {
   "cells": [
    {
     "cell_type": "code",
     "collapsed": false,
     "input": [
      "person = {\"age\": 1, \"height\": 100}\n",
      "person[\"age\"]"
     ],
     "language": "python",
     "metadata": {},
     "outputs": []
    },
    {
     "cell_type": "code",
     "collapsed": false,
     "input": [
      "class Person:\n",
      "    \"\"\"This a person class\"\"\"\n",
      "    \n",
      "    name = \"\"\n",
      "    age = 0\n",
      "    height = 0\n",
      "    weight = 0\n",
      "    position_x = 1\n",
      "    position_y = 1\n",
      "    \n",
      "    def __init__(self, desiredName=\"John Hancock\"):\n",
      "        self.name = desiredName\n",
      "    \n",
      "    def walk(self, x, y):\n",
      "        self.position_x = x\n",
      "        self.position_y = y\n",
      "    \n",
      "    "
     ],
     "language": "python",
     "metadata": {},
     "outputs": []
    },
    {
     "cell_type": "code",
     "collapsed": false,
     "input": [
      "jing = Person(\"jing\")\n",
      "jose = Person(\"Jose\")\n",
      "shihan = Person(\"Shihan\")\n",
      "sourabh = Person(\"Sourabh\")\n",
      "marc = Person(\"Marc\")"
     ],
     "language": "python",
     "metadata": {},
     "outputs": []
    },
    {
     "cell_type": "code",
     "collapsed": false,
     "input": [
      "jose.name"
     ],
     "language": "python",
     "metadata": {},
     "outputs": []
    },
    {
     "cell_type": "code",
     "collapsed": false,
     "input": [
      "sourabh.name"
     ],
     "language": "python",
     "metadata": {},
     "outputs": []
    },
    {
     "cell_type": "code",
     "collapsed": false,
     "input": [
      "shihan.name"
     ],
     "language": "python",
     "metadata": {},
     "outputs": []
    },
    {
     "cell_type": "code",
     "collapsed": false,
     "input": [
      "class Animal:\n",
      "    name = \"\"\n",
      "    weight = 0\n",
      "    isWarmBlooded = True\n",
      "    \n",
      "class Mammal(Animal):\n",
      "    producesMilk = True\n",
      "\n",
      "class Reptile(Animal):\n",
      "    isWarmBlooded = False\n",
      "\n",
      "class Tiger(Mammal):\n",
      "    name = \"Tiger\"\n",
      "    \n",
      "class Lizard(Reptile):\n",
      "    name = \"Lizard\"\n",
      "\n",
      "def getfacts(obj):\n",
      "    print(obj.name)\n",
      "    if obj.isWarmBlooded == True:\n",
      "        print(\"Creature is warm-blooded\")\n",
      "    else:\n",
      "        print(\"Creature is NOT warm-blooded\")    "
     ],
     "language": "python",
     "metadata": {},
     "outputs": []
    },
    {
     "cell_type": "code",
     "collapsed": false,
     "input": [
      "l = Lizard()\n",
      "t = Tiger()"
     ],
     "language": "python",
     "metadata": {},
     "outputs": []
    },
    {
     "cell_type": "code",
     "collapsed": false,
     "input": [
      "getfacts(l)"
     ],
     "language": "python",
     "metadata": {},
     "outputs": []
    },
    {
     "cell_type": "code",
     "collapsed": false,
     "input": [
      "getfacts(t)"
     ],
     "language": "python",
     "metadata": {},
     "outputs": []
    },
    {
     "cell_type": "code",
     "collapsed": false,
     "input": [
      "dir(t)"
     ],
     "language": "python",
     "metadata": {},
     "outputs": []
    },
    {
     "cell_type": "code",
     "collapsed": false,
     "input": [
      "dir(l)"
     ],
     "language": "python",
     "metadata": {},
     "outputs": []
    },
    {
     "cell_type": "code",
     "collapsed": false,
     "input": [
      "L[2:]"
     ],
     "language": "python",
     "metadata": {},
     "outputs": []
    },
    {
     "cell_type": "code",
     "collapsed": false,
     "input": [
      "for n in L:\n",
      "    print(Tiger(t,n))"
     ],
     "language": "python",
     "metadata": {},
     "outputs": []
    },
    {
     "cell_type": "code",
     "collapsed": false,
     "input": [],
     "language": "python",
     "metadata": {},
     "outputs": []
    }
   ],
   "metadata": {}
  }
 ]
}