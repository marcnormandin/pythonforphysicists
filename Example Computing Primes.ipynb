{
 "metadata": {
  "name": "",
  "signature": "sha256:5bde2f03811e86ac4b2c845f5716c49c0149cfdfa4f124d59cd01191e0150480"
 },
 "nbformat": 3,
 "nbformat_minor": 0,
 "worksheets": [
  {
   "cells": [
    {
     "cell_type": "heading",
     "level": 1,
     "metadata": {},
     "source": [
      "Example: Computing primes"
     ]
    },
    {
     "cell_type": "markdown",
     "metadata": {},
     "source": [
      "We should learn how to time code, so that we can compare different algorithms for the same problem."
     ]
    },
    {
     "cell_type": "heading",
     "level": 2,
     "metadata": {},
     "source": [
      "A simple method is the following"
     ]
    },
    {
     "cell_type": "code",
     "collapsed": false,
     "input": [
      "def is_prime_simple_forloop(N):\n",
      "    if N <= 0: return False\n",
      "    if N == 1: return True\n",
      "    if N == 2: return True\n",
      "    \n",
      "    # Check if N is divisible by all numbers less than it\n",
      "    for n in range(2, N):\n",
      "        if N%n == 0:\n",
      "            print(\"Divisible by \" + str(n))\n",
      "            return False\n",
      "    \n",
      "    # N must be prime if the code reached this point\n",
      "    return True"
     ],
     "language": "python",
     "metadata": {},
     "outputs": []
    },
    {
     "cell_type": "code",
     "collapsed": false,
     "input": [
      "is_prime_simple_forloop(111)"
     ],
     "language": "python",
     "metadata": {},
     "outputs": []
    },
    {
     "cell_type": "heading",
     "level": 2,
     "metadata": {},
     "source": [
      "An improved method is the following"
     ]
    },
    {
     "cell_type": "markdown",
     "metadata": {},
     "source": [
      "We don't need to check all numbers up to N-1, only up to the sqrt(N)"
     ]
    },
    {
     "cell_type": "code",
     "collapsed": false,
     "input": [
      "import math\n",
      "\n",
      "def is_prime_simple_forloop_sqrt(N):\n",
      "    if N <= 0: return False\n",
      "    if N == 1: return True\n",
      "    if N == 2: return True\n",
      "    \n",
      "    # Check if N is divisible by all numbers less than it\n",
      "    M = int(math.sqrt(N))\n",
      "    for n in range(2, M):\n",
      "        if N%n == 0:\n",
      "            print(\"Divisible by \" + str(n))\n",
      "            return False\n",
      "    \n",
      "    # N must be prime if the code reached this point\n",
      "    return True"
     ],
     "language": "python",
     "metadata": {},
     "outputs": []
    },
    {
     "cell_type": "code",
     "collapsed": false,
     "input": [
      "cool_prime = 9876543217\n",
      "is_prime_simple_forloop_sqrt(cool_prime)"
     ],
     "language": "python",
     "metadata": {},
     "outputs": []
    },
    {
     "cell_type": "heading",
     "level": 3,
     "metadata": {},
     "source": [
      "WOW! Found a big prime number!"
     ]
    },
    {
     "cell_type": "markdown",
     "metadata": {},
     "source": [
      "Warning! Running the simple version on the above prime ran for a long time until my computer had to be rebooted because it ran out of resources. This is most likely because the loop use range(), which creates an array for all numbers up to the prime numbers-1."
     ]
    },
    {
     "cell_type": "code",
     "collapsed": false,
     "input": [
      "# Run the following at your own peril!\n",
      "#is_prime_simple_forloop(cool_prime)"
     ],
     "language": "python",
     "metadata": {},
     "outputs": []
    },
    {
     "cell_type": "markdown",
     "metadata": {},
     "source": [
      "Let's change from the FOR loop to a WHILE loop and see if it still crashes my computer"
     ]
    },
    {
     "cell_type": "code",
     "collapsed": false,
     "input": [
      "import math\n",
      "\n",
      "def is_prime_simple_whileloop_sqrt(N):\n",
      "    if N <= 0: return False\n",
      "    if N == 1: return True\n",
      "    if N == 2: return True\n",
      "    \n",
      "    # Check if N is divisible by all numbers less than it\n",
      "    M = int(math.sqrt(N))\n",
      "    n = 2\n",
      "    while n <= M:\n",
      "        if N%n == 0:\n",
      "            print(\"Divisible by \" + str(n))\n",
      "            return False\n",
      "        n += 1\n",
      "    \n",
      "    # N must be prime if the code reached this point\n",
      "    return True"
     ],
     "language": "python",
     "metadata": {},
     "outputs": []
    },
    {
     "cell_type": "code",
     "collapsed": false,
     "input": [
      "is_prime_simple_whileloop_sqrt(cool_prime)"
     ],
     "language": "python",
     "metadata": {},
     "outputs": []
    },
    {
     "cell_type": "markdown",
     "metadata": {},
     "source": [
      "Now it works instantly! So the problem was using 'range()' in the for loop."
     ]
    },
    {
     "cell_type": "markdown",
     "metadata": {},
     "source": [
      "Now lets make one minor modification to the last version. Instead of increasing the index 'n' by 1, let's increase it by 2 so that we only check odd powers (since the only even prime is 2)."
     ]
    },
    {
     "cell_type": "heading",
     "level": 2,
     "metadata": {},
     "source": [
      "Increment by two"
     ]
    },
    {
     "cell_type": "code",
     "collapsed": false,
     "input": [
      "import math\n",
      "\n",
      "def is_prime_simple_whileloop_sqrt_incr2(N):\n",
      "    if N <= 0: return False\n",
      "    if N == 1: return True\n",
      "    if N == 2: return True\n",
      "    \n",
      "    # Check if N is divisible by all numbers less than it\n",
      "    M = int(math.sqrt(N))\n",
      "    n = 2\n",
      "    while n <= M:\n",
      "        if N%n == 0:\n",
      "            print(\"Divisible by \" + str(n))\n",
      "            return False\n",
      "        n += 2\n",
      "    \n",
      "    # N must be prime if the code reached this point\n",
      "    return True"
     ],
     "language": "python",
     "metadata": {},
     "outputs": []
    },
    {
     "cell_type": "code",
     "collapsed": false,
     "input": [
      "is_prime_simple_whileloop_sqrt_incr2(cool_prime)"
     ],
     "language": "python",
     "metadata": {},
     "outputs": []
    },
    {
     "cell_type": "markdown",
     "metadata": {},
     "source": [
      "Suppose we have the following related problem: <i>Determine which of a given set of numbers is prime.</i> We could just loop over the list of numbers, and run the previous function. But there is a better algorithm called the sieve of erastocens."
     ]
    },
    {
     "cell_type": "heading",
     "level": 2,
     "metadata": {},
     "source": [
      "Sieve of Erastoscenes"
     ]
    },
    {
     "cell_type": "markdown",
     "metadata": {},
     "source": [
      "Note, this isn't REALLY the algorithm. I need to work more on this."
     ]
    },
    {
     "cell_type": "code",
     "collapsed": false,
     "input": [
      "def sieve_of_eratosthenes(N):\n",
      "    if N<=0: return []\n",
      "    if N==1: return [1]\n",
      "    if N==2: return [1, 2]\n",
      "    \n",
      "    primes = [2]\n",
      "    potentials = range(3, N, 2)\n",
      "    \n",
      "    for candidate in potentials:\n",
      "        isprime = True\n",
      "        for p in primes:\n",
      "            if candidate % p == 0:\n",
      "                #print(str(candidate) + \" is divisible by \" + str(p))\n",
      "                isprime = False\n",
      "                break\n",
      "        \n",
      "        if isprime:\n",
      "            primes.append(candidate)\n",
      "    \n",
      "    return primes"
     ],
     "language": "python",
     "metadata": {},
     "outputs": []
    },
    {
     "cell_type": "code",
     "collapsed": false,
     "input": [
      "primes = sieve_of_eratosthenes(1000)\n",
      "def distance(L):\n",
      "    d = [0] * len(L)\n",
      "    for n in range(len(L)-1):\n",
      "        d[n] = L[n+1] - L[n]\n",
      "    return d\n",
      "diff = distance(primes)"
     ],
     "language": "python",
     "metadata": {},
     "outputs": []
    },
    {
     "cell_type": "code",
     "collapsed": false,
     "input": [
      "x = plot(diff)"
     ],
     "language": "python",
     "metadata": {},
     "outputs": []
    },
    {
     "cell_type": "code",
     "collapsed": false,
     "input": [],
     "language": "python",
     "metadata": {},
     "outputs": []
    }
   ],
   "metadata": {}
  }
 ]
}