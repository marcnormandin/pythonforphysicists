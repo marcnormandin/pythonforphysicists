{
 "metadata": {
  "name": "",
  "signature": "sha256:451f39cca2da22e3f0433736863240dd770887fa28671d6965a0a01e28fc0029"
 },
 "nbformat": 3,
 "nbformat_minor": 0,
 "worksheets": [
  {
   "cells": [
    {
     "cell_type": "heading",
     "level": 1,
     "metadata": {},
     "source": [
      "Lists"
     ]
    },
    {
     "cell_type": "markdown",
     "metadata": {},
     "source": [
      "We create a least, created another name for it, and then append it. Note that these operations are done <i>in place</i>."
     ]
    },
    {
     "cell_type": "code",
     "collapsed": false,
     "input": [
      "x = [5, 7, 1, 3, 2, 5, 7, 7]\n",
      "print(x)"
     ],
     "language": "python",
     "metadata": {},
     "outputs": []
    },
    {
     "cell_type": "heading",
     "level": 4,
     "metadata": {},
     "source": [
      "Append"
     ]
    },
    {
     "cell_type": "code",
     "collapsed": false,
     "input": [
      "y = x\n",
      "y.append(23)\n",
      "print(y)"
     ],
     "language": "python",
     "metadata": {},
     "outputs": []
    },
    {
     "cell_type": "code",
     "collapsed": false,
     "input": [
      "print(x)"
     ],
     "language": "python",
     "metadata": {},
     "outputs": []
    },
    {
     "cell_type": "markdown",
     "metadata": {},
     "source": [
      "As we can see, the original list has also been modified."
     ]
    },
    {
     "cell_type": "heading",
     "level": 4,
     "metadata": {},
     "source": [
      "Extend"
     ]
    },
    {
     "cell_type": "code",
     "collapsed": false,
     "input": [
      "y = [56, 57, 58]\n",
      "x.extend(y)\n",
      "print(x)"
     ],
     "language": "python",
     "metadata": {},
     "outputs": []
    },
    {
     "cell_type": "heading",
     "level": 4,
     "metadata": {},
     "source": [
      "Insert"
     ]
    },
    {
     "cell_type": "code",
     "collapsed": false,
     "input": [
      "x.insert(1, 99)\n",
      "print(x)"
     ],
     "language": "python",
     "metadata": {},
     "outputs": []
    },
    {
     "cell_type": "heading",
     "level": 4,
     "metadata": {},
     "source": [
      "Remove"
     ]
    },
    {
     "cell_type": "code",
     "collapsed": false,
     "input": [
      "x.remove(5)\n",
      "print(x)"
     ],
     "language": "python",
     "metadata": {},
     "outputs": []
    },
    {
     "cell_type": "markdown",
     "metadata": {},
     "source": [
      "We see that the first '5' was removed, but not the second."
     ]
    },
    {
     "cell_type": "code",
     "collapsed": false,
     "input": [
      "x.remove(5)\n",
      "print(x)"
     ],
     "language": "python",
     "metadata": {},
     "outputs": []
    },
    {
     "cell_type": "markdown",
     "metadata": {},
     "source": [
      "Now we have removed all of the '5's."
     ]
    },
    {
     "cell_type": "heading",
     "level": 4,
     "metadata": {},
     "source": [
      "Index"
     ]
    },
    {
     "cell_type": "code",
     "collapsed": false,
     "input": [
      "i = x.index(2)\n",
      "print(i)"
     ],
     "language": "python",
     "metadata": {},
     "outputs": []
    },
    {
     "cell_type": "heading",
     "level": 4,
     "metadata": {},
     "source": [
      "Pop"
     ]
    },
    {
     "cell_type": "code",
     "collapsed": false,
     "input": [
      "print(x)\n",
      "y = x.pop(i)\n",
      "print(x)"
     ],
     "language": "python",
     "metadata": {},
     "outputs": []
    },
    {
     "cell_type": "code",
     "collapsed": false,
     "input": [
      "print(y)"
     ],
     "language": "python",
     "metadata": {},
     "outputs": []
    },
    {
     "cell_type": "heading",
     "level": 4,
     "metadata": {},
     "source": [
      "Count"
     ]
    },
    {
     "cell_type": "code",
     "collapsed": false,
     "input": [
      "num_sevens = x.count(7)\n",
      "print( 'There are ' + str(num_sevens) + ' sevens in the list' )"
     ],
     "language": "python",
     "metadata": {},
     "outputs": []
    },
    {
     "cell_type": "heading",
     "level": 4,
     "metadata": {},
     "source": [
      "Sort"
     ]
    },
    {
     "cell_type": "code",
     "collapsed": false,
     "input": [
      "print(x)\n",
      "x.sort()\n",
      "print(x)"
     ],
     "language": "python",
     "metadata": {},
     "outputs": []
    },
    {
     "cell_type": "heading",
     "level": 4,
     "metadata": {},
     "source": [
      "Reverse"
     ]
    },
    {
     "cell_type": "code",
     "collapsed": false,
     "input": [
      "print(x)\n",
      "x.reverse()\n",
      "print(x)"
     ],
     "language": "python",
     "metadata": {},
     "outputs": []
    },
    {
     "cell_type": "heading",
     "level": 1,
     "metadata": {},
     "source": [
      "Functional Programming Tools"
     ]
    },
    {
     "cell_type": "heading",
     "level": 2,
     "metadata": {},
     "source": [
      "Filter"
     ]
    },
    {
     "cell_type": "markdown",
     "metadata": {},
     "source": [
      "filter(function, sequence) returns a sequence consisting of those items from the sequence for which function(item) is true. If sequence is a string or tuple, the result will be of the same type; otherwise, it is always a list."
     ]
    },
    {
     "cell_type": "code",
     "collapsed": false,
     "input": [
      "def f(x): return x % 2 != 0 and x % 3 != 0\n",
      "\n",
      "filter(f, range(2, 25))"
     ],
     "language": "python",
     "metadata": {},
     "outputs": []
    },
    {
     "cell_type": "heading",
     "level": 2,
     "metadata": {},
     "source": [
      "Map"
     ]
    },
    {
     "cell_type": "markdown",
     "metadata": {},
     "source": [
      "map(function, sequence) calls function(item) for each of the sequence\u2019s items and returns a list of the return values."
     ]
    },
    {
     "cell_type": "code",
     "collapsed": false,
     "input": [
      "def cube(x): return x*x*x\n",
      "\n",
      "map(cube, range(1, 11))"
     ],
     "language": "python",
     "metadata": {},
     "outputs": []
    },
    {
     "cell_type": "markdown",
     "metadata": {},
     "source": [
      "More than one sequence may be passed; the function must then have as many arguments as there are sequences and is called with the corresponding item from each sequence (or None if some sequence is shorter than another)."
     ]
    },
    {
     "cell_type": "code",
     "collapsed": false,
     "input": [
      "seq = range(8)\n",
      "\n",
      "def add(x, y): return x+y\n",
      "\n",
      "map(add, seq, seq)\n",
      "map(lambda x,y : x-y, seq, seq)"
     ],
     "language": "python",
     "metadata": {},
     "outputs": []
    },
    {
     "cell_type": "heading",
     "level": 2,
     "metadata": {},
     "source": [
      "Reduce"
     ]
    },
    {
     "cell_type": "markdown",
     "metadata": {},
     "source": [
      "reduce(function, sequence) returns a single value constructed by calling the binary function function on the first two items of the sequence, then on the result and the next item, and so on."
     ]
    },
    {
     "cell_type": "code",
     "collapsed": false,
     "input": [
      "x = range(1,11)\n",
      "print(x)\n",
      "\n",
      "def add(x,y): return x+y\n",
      "\n",
      "r1 = reduce(add, x)\n",
      "r2 = reduce(lambda x,y: x+y, x)"
     ],
     "language": "python",
     "metadata": {},
     "outputs": []
    },
    {
     "cell_type": "code",
     "collapsed": false,
     "input": [
      "print(r1)\n",
      "print(r2)"
     ],
     "language": "python",
     "metadata": {},
     "outputs": []
    },
    {
     "cell_type": "markdown",
     "metadata": {},
     "source": [
      "A third argument can be passed to indicate the starting value. In this case the starting value is returned for an empty sequence, and the function is first applied to the starting value and the first sequence item, then to the result and the next item, and so on."
     ]
    },
    {
     "cell_type": "code",
     "collapsed": false,
     "input": [
      "def sum(seq):\n",
      "     def add(x,y): return x+y\n",
      "     return reduce(add, seq, 0)\n",
      "\n",
      "sum(range(1, 11))"
     ],
     "language": "python",
     "metadata": {},
     "outputs": []
    },
    {
     "cell_type": "code",
     "collapsed": false,
     "input": [
      "sum([])"
     ],
     "language": "python",
     "metadata": {},
     "outputs": []
    },
    {
     "cell_type": "heading",
     "level": 1,
     "metadata": {},
     "source": [
      "List Comprehensions"
     ]
    },
    {
     "cell_type": "markdown",
     "metadata": {},
     "source": [
      "Lets look at three ways to create a list of squared numbers"
     ]
    },
    {
     "cell_type": "heading",
     "level": 3,
     "metadata": {},
     "source": [
      "1) Function with a loop"
     ]
    },
    {
     "cell_type": "code",
     "collapsed": false,
     "input": [
      "squares = []\n",
      "r = range(10)\n",
      "for x in r:\n",
      "     squares.append(x**2)\n",
      "print(squares)"
     ],
     "language": "python",
     "metadata": {},
     "outputs": []
    },
    {
     "cell_type": "heading",
     "level": 3,
     "metadata": {},
     "source": [
      "2) Map using a lambda function"
     ]
    },
    {
     "cell_type": "code",
     "collapsed": false,
     "input": [
      "squares = map(lambda x : x**2, r)\n",
      "print(squares)"
     ],
     "language": "python",
     "metadata": {},
     "outputs": []
    },
    {
     "cell_type": "heading",
     "level": 3,
     "metadata": {},
     "source": [
      "3) Using list comprehension"
     ]
    },
    {
     "cell_type": "code",
     "collapsed": false,
     "input": [
      "squares = [x**2 for x in r]\n",
      "print(squares)"
     ],
     "language": "python",
     "metadata": {},
     "outputs": []
    },
    {
     "cell_type": "markdown",
     "metadata": {},
     "source": [
      "We see that the list comprehension is somewhat easier to understand."
     ]
    },
    {
     "cell_type": "markdown",
     "metadata": {},
     "source": [
      "A list comprehension consists of brackets containing an expression followed by a for clause, then zero or more for or if clauses. The result will be a new list resulting from evaluating the expression in the context of the for and if clauses which follow it. "
     ]
    },
    {
     "cell_type": "heading",
     "level": 4,
     "metadata": {},
     "source": [
      "Another example"
     ]
    },
    {
     "cell_type": "code",
     "collapsed": false,
     "input": [
      "[(x, y) for x in [1,2,3] for y in [3,1,4] if x != y]"
     ],
     "language": "python",
     "metadata": {},
     "outputs": []
    },
    {
     "cell_type": "code",
     "collapsed": false,
     "input": [
      "combs = []\n",
      "for x in [1,2,3]:\n",
      "     for y in [3,1,4]:\n",
      "         if x != y:\n",
      "             combs.append((x, y))\n",
      "print(combs)"
     ],
     "language": "python",
     "metadata": {},
     "outputs": []
    },
    {
     "cell_type": "markdown",
     "metadata": {},
     "source": [
      "Again, we see that the list comprehension is much nicer to use. Next is a more complicated example,"
     ]
    },
    {
     "cell_type": "code",
     "collapsed": false,
     "input": [
      "vec = [[1,2,3], [4,5,6], [7,8,9]]\n",
      "[num for elem in vec for num in elem]"
     ],
     "language": "python",
     "metadata": {},
     "outputs": []
    },
    {
     "cell_type": "markdown",
     "metadata": {},
     "source": [
      "The initial expression in a list comprehension can be any arbitrary expression, including another list comprehension."
     ]
    },
    {
     "cell_type": "heading",
     "level": 1,
     "metadata": {},
     "source": [
      "Del"
     ]
    },
    {
     "cell_type": "code",
     "collapsed": false,
     "input": [
      "x = [1, 2, 3, 4]\n",
      "del x[2]\n",
      "print(x)"
     ],
     "language": "python",
     "metadata": {},
     "outputs": []
    },
    {
     "cell_type": "code",
     "collapsed": false,
     "input": [
      "del x\n",
      "print(x)"
     ],
     "language": "python",
     "metadata": {},
     "outputs": []
    },
    {
     "cell_type": "heading",
     "level": 1,
     "metadata": {},
     "source": [
      "Tuples"
     ]
    },
    {
     "cell_type": "markdown",
     "metadata": {},
     "source": [
      "A tuple consists of a number of values separated by commas. They are immutable."
     ]
    },
    {
     "cell_type": "code",
     "collapsed": false,
     "input": [
      "my_tuple = 'abc', 123, '3.1415'"
     ],
     "language": "python",
     "metadata": {},
     "outputs": []
    },
    {
     "cell_type": "code",
     "collapsed": false,
     "input": [
      "print(my_tuple)"
     ],
     "language": "python",
     "metadata": {},
     "outputs": []
    },
    {
     "cell_type": "code",
     "collapsed": false,
     "input": [
      "my_tuple[0]"
     ],
     "language": "python",
     "metadata": {},
     "outputs": []
    },
    {
     "cell_type": "code",
     "collapsed": false,
     "input": [
      "len(my_tuple)"
     ],
     "language": "python",
     "metadata": {},
     "outputs": []
    },
    {
     "cell_type": "code",
     "collapsed": false,
     "input": [
      "nested_tuple = my_tuple, ('france', 'germany')\n",
      "print(nested_tuple)"
     ],
     "language": "python",
     "metadata": {},
     "outputs": []
    },
    {
     "cell_type": "code",
     "collapsed": false,
     "input": [
      "len(nested_tuple)"
     ],
     "language": "python",
     "metadata": {},
     "outputs": []
    },
    {
     "cell_type": "code",
     "collapsed": false,
     "input": [
      "len(nested_tuple[0])"
     ],
     "language": "python",
     "metadata": {},
     "outputs": []
    },
    {
     "cell_type": "code",
     "collapsed": false,
     "input": [
      "len(nested_tuple[1])"
     ],
     "language": "python",
     "metadata": {},
     "outputs": []
    },
    {
     "cell_type": "markdown",
     "metadata": {},
     "source": [
      "Though tuples may seem similar to lists, they are often used in different situations and for different purposes. Tuples are immutable, and usually contain an heterogeneous sequence of elements that are accessed via unpacking (see later in this section) or indexing (or even by attribute in the case of namedtuples). Lists are mutable, and their elements are usually homogeneous and are accessed by iterating over the list."
     ]
    },
    {
     "cell_type": "markdown",
     "metadata": {},
     "source": [
      "You can unpack a tuple as in the following example"
     ]
    },
    {
     "cell_type": "code",
     "collapsed": false,
     "input": [
      "print(my_tuple)"
     ],
     "language": "python",
     "metadata": {},
     "outputs": []
    },
    {
     "cell_type": "code",
     "collapsed": false,
     "input": [
      "x, y, z = my_tuple"
     ],
     "language": "python",
     "metadata": {},
     "outputs": []
    },
    {
     "cell_type": "code",
     "collapsed": false,
     "input": [
      "print(x)"
     ],
     "language": "python",
     "metadata": {},
     "outputs": []
    },
    {
     "cell_type": "code",
     "collapsed": false,
     "input": [
      "print(y)"
     ],
     "language": "python",
     "metadata": {},
     "outputs": []
    },
    {
     "cell_type": "code",
     "collapsed": false,
     "input": [
      "print(z)"
     ],
     "language": "python",
     "metadata": {},
     "outputs": []
    },
    {
     "cell_type": "code",
     "collapsed": false,
     "input": [
      "type(z)"
     ],
     "language": "python",
     "metadata": {},
     "outputs": []
    },
    {
     "cell_type": "heading",
     "level": 4,
     "metadata": {},
     "source": [
      "Two special tuples"
     ]
    },
    {
     "cell_type": "code",
     "collapsed": false,
     "input": [
      "singleton = 'note trailing comma',\n",
      "print(singleton)"
     ],
     "language": "python",
     "metadata": {},
     "outputs": []
    },
    {
     "cell_type": "code",
     "collapsed": false,
     "input": [
      "len(singleton)"
     ],
     "language": "python",
     "metadata": {},
     "outputs": []
    },
    {
     "cell_type": "code",
     "collapsed": false,
     "input": [
      "empty = ()\n",
      "print(empty)"
     ],
     "language": "python",
     "metadata": {},
     "outputs": []
    },
    {
     "cell_type": "code",
     "collapsed": false,
     "input": [
      "len(empty)"
     ],
     "language": "python",
     "metadata": {},
     "outputs": []
    },
    {
     "cell_type": "heading",
     "level": 1,
     "metadata": {},
     "source": [
      "Set"
     ]
    },
    {
     "cell_type": "code",
     "collapsed": false,
     "input": [
      "my_list = ['blah', 'more blah', 'blah']\n",
      "print(my_list)"
     ],
     "language": "python",
     "metadata": {},
     "outputs": []
    },
    {
     "cell_type": "code",
     "collapsed": false,
     "input": [
      "my_set = set(my_list)\n",
      "print(my_set)"
     ],
     "language": "python",
     "metadata": {},
     "outputs": []
    },
    {
     "cell_type": "markdown",
     "metadata": {},
     "source": [
      "Note that we only have one 'blah'."
     ]
    },
    {
     "cell_type": "code",
     "collapsed": false,
     "input": [
      "empty_set = set()\n",
      "print(empty_set)"
     ],
     "language": "python",
     "metadata": {},
     "outputs": []
    },
    {
     "cell_type": "code",
     "collapsed": false,
     "input": [
      "len(empty_set)"
     ],
     "language": "python",
     "metadata": {},
     "outputs": []
    },
    {
     "cell_type": "heading",
     "level": 3,
     "metadata": {},
     "source": [
      "Set operations"
     ]
    },
    {
     "cell_type": "code",
     "collapsed": false,
     "input": [
      "things_I_have = set(['flashlight', 'hammer', 'map', 'sword', 'mutton', 'water'])\n",
      "things_you_have = set(['water', 'nails', 'sword', 'tent', 'magic wand'])"
     ],
     "language": "python",
     "metadata": {},
     "outputs": []
    },
    {
     "cell_type": "code",
     "collapsed": false,
     "input": [
      "things_you_have_that_I_dont = things_you_have - things_I_have\n",
      "print(things_you_have_that_I_dont)"
     ],
     "language": "python",
     "metadata": {},
     "outputs": []
    },
    {
     "cell_type": "code",
     "collapsed": false,
     "input": [
      "things_we_both_have_in_common = things_I_have & things_you_have\n",
      "print(things_we_both_have_in_common)"
     ],
     "language": "python",
     "metadata": {},
     "outputs": []
    },
    {
     "cell_type": "code",
     "collapsed": false,
     "input": [
      "things_we_have_combined = things_I_have ^ things_you_have\n",
      "print(things_we_have_combined)"
     ],
     "language": "python",
     "metadata": {},
     "outputs": []
    },
    {
     "cell_type": "code",
     "collapsed": false,
     "input": [
      "things_we_have_combined_in_total = things_I_have | things_you_have\n",
      "print(things_we_have_combined_in_total)"
     ],
     "language": "python",
     "metadata": {},
     "outputs": []
    },
    {
     "cell_type": "markdown",
     "metadata": {},
     "source": [
      "The last two examples demonstrate exclusive OR and inclusive OR, respectively."
     ]
    },
    {
     "cell_type": "heading",
     "level": 3,
     "metadata": {},
     "source": [
      "Set comprehension"
     ]
    },
    {
     "cell_type": "code",
     "collapsed": false,
     "input": [
      "a = {x for x in 'abracadabra' if x not in 'abc'}\n",
      "print(a)"
     ],
     "language": "python",
     "metadata": {},
     "outputs": []
    },
    {
     "cell_type": "heading",
     "level": 1,
     "metadata": {},
     "source": [
      "Dictionaries"
     ]
    },
    {
     "cell_type": "code",
     "collapsed": false,
     "input": [
      "my_dict = {'key1' : 'val1', 'key2' : 'val2'}\n",
      "print(my_dict)"
     ],
     "language": "python",
     "metadata": {},
     "outputs": []
    },
    {
     "cell_type": "code",
     "collapsed": false,
     "input": [
      "empty_dict = {}\n",
      "print(empty_dict)"
     ],
     "language": "python",
     "metadata": {},
     "outputs": []
    },
    {
     "cell_type": "code",
     "collapsed": false,
     "input": [
      "len(empty_dict)"
     ],
     "language": "python",
     "metadata": {},
     "outputs": []
    },
    {
     "cell_type": "code",
     "collapsed": false,
     "input": [
      "my_dict.keys()"
     ],
     "language": "python",
     "metadata": {},
     "outputs": []
    },
    {
     "cell_type": "code",
     "collapsed": false,
     "input": [
      "my_dict.values()"
     ],
     "language": "python",
     "metadata": {},
     "outputs": []
    },
    {
     "cell_type": "code",
     "collapsed": false,
     "input": [
      "print( my_dict['key2'] )"
     ],
     "language": "python",
     "metadata": {},
     "outputs": []
    },
    {
     "cell_type": "code",
     "collapsed": false,
     "input": [
      "del my_dict['key2']\n",
      "print(my_dict)"
     ],
     "language": "python",
     "metadata": {},
     "outputs": []
    },
    {
     "cell_type": "heading",
     "level": 4,
     "metadata": {},
     "source": [
      "Create a dictionary to represent a mathematical function"
     ]
    },
    {
     "cell_type": "code",
     "collapsed": false,
     "input": [
      "f = dict({x:x**2 for x in range(0, 10) })\n",
      "print(f)"
     ],
     "language": "python",
     "metadata": {},
     "outputs": []
    },
    {
     "cell_type": "code",
     "collapsed": false,
     "input": [
      "f[7]"
     ],
     "language": "python",
     "metadata": {},
     "outputs": []
    },
    {
     "cell_type": "heading",
     "level": 5,
     "metadata": {},
     "source": [
      "There is a special initialization form if the keys are strings"
     ]
    },
    {
     "cell_type": "code",
     "collapsed": false,
     "input": [
      "efficient_dict = dict(sape=4139, guido=4127, jack=4098)\n",
      "print(efficient_dict)"
     ],
     "language": "python",
     "metadata": {},
     "outputs": []
    },
    {
     "cell_type": "heading",
     "level": 1,
     "metadata": {},
     "source": [
      "Looping techniques"
     ]
    },
    {
     "cell_type": "code",
     "collapsed": false,
     "input": [
      "for i, v in enumerate(['tic', 'tac', 'toe']):\n",
      "     print i, v"
     ],
     "language": "python",
     "metadata": {},
     "outputs": []
    },
    {
     "cell_type": "code",
     "collapsed": false,
     "input": [
      "questions = ['name', 'quest', 'favorite color']\n",
      "answers = ['lancelot', 'the holy grail', 'blue']\n",
      "for q, a in zip(questions, answers):\n",
      "     print 'What is your {0}?  It is {1}.'.format(q, a)"
     ],
     "language": "python",
     "metadata": {},
     "outputs": []
    },
    {
     "cell_type": "code",
     "collapsed": false,
     "input": [
      "basket = ['apple', 'orange', 'apple', 'pear', 'orange', 'banana']\n",
      "for f in sorted(set(basket)):\n",
      "     print f"
     ],
     "language": "python",
     "metadata": {},
     "outputs": []
    },
    {
     "cell_type": "code",
     "collapsed": false,
     "input": [
      "print(basket)"
     ],
     "language": "python",
     "metadata": {},
     "outputs": []
    },
    {
     "cell_type": "code",
     "collapsed": false,
     "input": [
      "knights = {'gallahad': 'the pure', 'robin': 'the brave'}\n",
      "for k, v in knights.iteritems():\n",
      "     print k, v"
     ],
     "language": "python",
     "metadata": {},
     "outputs": []
    },
    {
     "cell_type": "code",
     "collapsed": false,
     "input": [
      "words = ['cat', 'window', 'defenestrate']\n",
      "for w in words[:]:  # Loop over a slice copy of the entire list.\n",
      "     if len(w) > 6:\n",
      "         words.insert(0, w)\n",
      "\n",
      "print(words)"
     ],
     "language": "python",
     "metadata": {},
     "outputs": []
    },
    {
     "cell_type": "code",
     "collapsed": false,
     "input": [],
     "language": "python",
     "metadata": {},
     "outputs": []
    }
   ],
   "metadata": {}
  }
 ]
}