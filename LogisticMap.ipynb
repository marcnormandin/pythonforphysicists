{
 "metadata": {
  "name": "",
  "signature": "sha256:4c0441dc04646771814281cc792bca72ec88c3acf3d71df8b679a2b1594a9276"
 },
 "nbformat": 3,
 "nbformat_minor": 0,
 "worksheets": [
  {
   "cells": [
    {
     "cell_type": "markdown",
     "metadata": {},
     "source": [
      "<h1>This is from our class on Friday, October 4, 2013</h1>\n",
      "Logistic equation: http://en.wikipedia.org/wiki/Logistic_map <br/>\n",
      "Cobweb plot: http://en.wikipedia.org/wiki/Cobweb_diagram"
     ]
    },
    {
     "cell_type": "code",
     "collapsed": false,
     "input": [
      "import matplotlib.pyplot as plt\n",
      "\n",
      "lw = 1 # Linewidth\n",
      "def plot_line_vertical(x, f_x):\n",
      "    plot( [x, x], [x, f_x], 'r', linewidth=lw )\n",
      "\n",
      "def plot_line_horizontal(x, f_x):\n",
      "    plot( [x, f_x], [f_x, f_x], 'g', linewidth=lw )\n",
      "    \n",
      "def cobweb_plot(xn, r):\n",
      "    # Plot the diagonal line\n",
      "    plt.plot([0.0, 1.0], [0.0, 1.0], 'k', linewidth=lw)\n",
      "    \n",
      "    # Plot the parabola\n",
      "    x = numpy.linspace(0.0, 1.0, 1000)\n",
      "    logistic = lambda x : r * x * (1.0 - x)\n",
      "    y = logistic(x)\n",
      "    plt.plot(x,y, 'k-')\n",
      "    \n",
      "    # Plot the recurrence sequence\n",
      "    for n in range(len(xn)-1):\n",
      "        if n==0: # This is the first vertical line\n",
      "            plot([xn[0], xn[0]], [0, xn[1]], 'm', linewidth=2 )\n",
      "        else:\n",
      "            plot_line_vertical(xn[n], xn[n+1])\n",
      "\n",
      "        plot_line_horizontal(xn[n], xn[n+1])"
     ],
     "language": "python",
     "metadata": {},
     "outputs": []
    },
    {
     "cell_type": "code",
     "collapsed": false,
     "input": [
      "def logistic_relation(x_old, r):\n",
      "    if x_old <= 0 or x_old > 1:\n",
      "        raise ValueError(\"x0 must be between 0 and 1.\")\n",
      "    \n",
      "    x_new = r * x_old * (1.0 - x_old)\n",
      "    return x_new"
     ],
     "language": "python",
     "metadata": {},
     "outputs": []
    },
    {
     "cell_type": "code",
     "collapsed": false,
     "input": [
      "def generate_sequence(x0, r, numIterations):\n",
      "    # Validate the input arguments\n",
      "    if numIterations <= 0:\n",
      "        raise ValueError(\"Number of iterations should be greater than zero.\")\n",
      "    \n",
      "    xn = [ x0 ]\n",
      "    for n in range(numIterations):\n",
      "        x_old = xn[-1]\n",
      "        x_new = logistic_relation(x_old, r)\n",
      "        xn.append( x_new )\n",
      "    return xn"
     ],
     "language": "python",
     "metadata": {},
     "outputs": []
    },
    {
     "cell_type": "code",
     "collapsed": false,
     "input": [
      "numIterations = 100\n",
      "x0 = 0.8\n",
      "r1 = 3.5\n",
      "r2 = 3.99\n",
      "xn1 = generate_sequence( x0, r1, numIterations)\n",
      "xn2 = generate_sequence( x0, r2, numIterations)\n",
      "subplot(1,2,1), cobweb_plot(xn1, r1)\n",
      "subplot(1,2,2), cobweb_plot(xn2, r2)"
     ],
     "language": "python",
     "metadata": {},
     "outputs": []
    },
    {
     "cell_type": "heading",
     "level": 3,
     "metadata": {},
     "source": [
      "Let's look at the last portion of the sequences to look for repeating patterns"
     ]
    },
    {
     "cell_type": "code",
     "collapsed": false,
     "input": [
      "xn1[-20:-1]"
     ],
     "language": "python",
     "metadata": {},
     "outputs": []
    },
    {
     "cell_type": "code",
     "collapsed": false,
     "input": [
      "xn2[-20:-1]"
     ],
     "language": "python",
     "metadata": {},
     "outputs": []
    }
   ],
   "metadata": {}
  }
 ]
}