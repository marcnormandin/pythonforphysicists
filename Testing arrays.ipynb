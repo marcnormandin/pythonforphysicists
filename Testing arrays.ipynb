{
 "metadata": {
  "name": "",
  "signature": "sha256:d90d38388eece15030ef0bd66f97989c9cdd0309d2f1973180f05576b137fdcc"
 },
 "nbformat": 3,
 "nbformat_minor": 0,
 "worksheets": [
  {
   "cells": [
    {
     "cell_type": "code",
     "collapsed": false,
     "input": [
      "import matplotlib.pyplot as plt\n",
      "import numpy as np\n",
      "import scipy\n"
     ],
     "language": "python",
     "metadata": {},
     "outputs": []
    },
    {
     "cell_type": "code",
     "collapsed": false,
     "input": [
      "plt.figure()\n",
      "#x = [1,2, 3, 4, 5]\n",
      "x = np.linspace(1,5)\n",
      "y = x ** 2\n",
      "plt.plot(x, y)\n",
      "plt.show()\n"
     ],
     "language": "python",
     "metadata": {},
     "outputs": []
    },
    {
     "cell_type": "code",
     "collapsed": false,
     "input": [
      "x = [1, 2, 3, 4] # This is a list. The problem is that we can't do math on its members\n",
      "print x\n",
      "type(x)\n",
      "#y = x ** 2 # This will not work\n"
     ],
     "language": "python",
     "metadata": {},
     "outputs": []
    },
    {
     "cell_type": "code",
     "collapsed": false,
     "input": [
      "xnp = np.array([1,2,3,4]) # This a numpy array. We CAN do math on this.\n",
      "type(xnp)\n",
      "#dir(numpy.ndarray)"
     ],
     "language": "python",
     "metadata": {},
     "outputs": []
    },
    {
     "cell_type": "code",
     "collapsed": false,
     "input": [
      "print xnp"
     ],
     "language": "python",
     "metadata": {},
     "outputs": []
    },
    {
     "cell_type": "code",
     "collapsed": false,
     "input": [
      "ynp = xnp ** 2\n",
      "type(ynp)\n",
      "print ynp\n",
      "numpy.ndarray?"
     ],
     "language": "python",
     "metadata": {},
     "outputs": []
    },
    {
     "cell_type": "code",
     "collapsed": false,
     "input": [
      "xnp2 = np.linspace(1,4,4)\n",
      "print xnp2\n",
      "type(xnp2)\n",
      "ynp2 = xnp2 ** 2\n",
      "type(ynp2)\n",
      "print ynp2"
     ],
     "language": "python",
     "metadata": {},
     "outputs": []
    },
    {
     "cell_type": "code",
     "collapsed": false,
     "input": [
      "numpy.linspace?"
     ],
     "language": "python",
     "metadata": {},
     "outputs": []
    }
   ],
   "metadata": {}
  }
 ]
}