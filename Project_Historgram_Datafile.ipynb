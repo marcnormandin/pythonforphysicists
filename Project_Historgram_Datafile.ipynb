{
 "metadata": {
  "name": "",
  "signature": "sha256:2c89c1a75ef90aa94235f904941eea050bb1bfdacbd82a3eda422dd891e5e64e"
 },
 "nbformat": 3,
 "nbformat_minor": 0,
 "worksheets": [
  {
   "cells": [
    {
     "cell_type": "code",
     "collapsed": false,
     "input": [
      "filename = 'output_theta1.data'"
     ],
     "language": "python",
     "metadata": {},
     "outputs": []
    },
    {
     "cell_type": "code",
     "collapsed": false,
     "input": [
      "import exceptions\n",
      "import numpy as np\n",
      "import scipy\n",
      "import matplotlib.pylab as plt\n",
      "import csv\n",
      "\n",
      "def load_data( filename, delim, has_headers = False ):\n",
      "    \"\"\"Loads the data from the file into memory\"\"\"\n",
      "    good_data = []\n",
      "    header = []\n",
      "    # This is from the python documentation\n",
      "    with open( filename, 'rb') as csvfile:\n",
      "        processed_headers = False\n",
      "        spamreader = csv.reader(csvfile, delimiter=delim, quotechar='|')\n",
      "        for row in spamreader:\n",
      "            if processed_headers == False and has_headers:\n",
      "                header = row\n",
      "                processed_headers = True\n",
      "            else:\n",
      "                is_valid_row = True\n",
      "                # For each entry, try to convert the string to a float,\n",
      "                # if the conversion fails, it calls the exception handler\n",
      "                # and then we set the entire row to being bad\n",
      "                valid_row = []\n",
      "                for entry in row:\n",
      "                    try:\n",
      "                        e = float(entry)\n",
      "                        valid_row.append(e)\n",
      "                    except exceptions.ValueError:\n",
      "                        is_valid_row = False\n",
      "                        #print(entry + \" is not real.\\n\")\n",
      "                        break\n",
      "                # Only if there are no invalid entries for the row do we keep it\n",
      "                if (is_valid_row):\n",
      "                    good_data.append(valid_row)\n",
      "    \n",
      "    # Now turn the data into a dictionary\n",
      "    data = {}\n",
      "    for n in range(len(header)):\n",
      "        column_data = []\n",
      "        for row in good_data:\n",
      "            column_data.append(row[n])\n",
      "            # Each label for the column heading is quoted, so we remove the quotes\n",
      "        data[header[n][1:-1]] = column_data\n",
      "    return header, data"
     ],
     "language": "python",
     "metadata": {},
     "outputs": []
    },
    {
     "cell_type": "code",
     "collapsed": false,
     "input": [
      "data = np.loadtxt( filename, unpack=True )\n",
      "type(data[1,1])"
     ],
     "language": "python",
     "metadata": {},
     "outputs": []
    },
    {
     "cell_type": "code",
     "collapsed": false,
     "input": [
      "hist(data[1,:])"
     ],
     "language": "python",
     "metadata": {},
     "outputs": []
    },
    {
     "cell_type": "code",
     "collapsed": false,
     "input": [
      "x = range(len(y))"
     ],
     "language": "python",
     "metadata": {},
     "outputs": []
    },
    {
     "cell_type": "code",
     "collapsed": false,
     "input": [
      "plot(x,y)"
     ],
     "language": "python",
     "metadata": {},
     "outputs": []
    },
    {
     "cell_type": "code",
     "collapsed": false,
     "input": [
      "data"
     ],
     "language": "python",
     "metadata": {},
     "outputs": []
    },
    {
     "cell_type": "code",
     "collapsed": false,
     "input": [],
     "language": "python",
     "metadata": {},
     "outputs": []
    }
   ],
   "metadata": {}
  }
 ]
}