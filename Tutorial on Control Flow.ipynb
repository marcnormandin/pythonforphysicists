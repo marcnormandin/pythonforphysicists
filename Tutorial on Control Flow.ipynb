{
 "metadata": {
  "name": "",
  "signature": "sha256:089cdf71a38c3f0b9680d21d8c023346595a94bff0c6358f198a8bc4a015c13a"
 },
 "nbformat": 3,
 "nbformat_minor": 0,
 "worksheets": [
  {
   "cells": [
    {
     "cell_type": "heading",
     "level": 1,
     "metadata": {},
     "source": [
      "Control Flow"
     ]
    },
    {
     "cell_type": "markdown",
     "metadata": {},
     "source": [
      "Reference: http://docs.python.org/2/tutorial/controlflow.html"
     ]
    },
    {
     "cell_type": "heading",
     "level": 2,
     "metadata": {},
     "source": [
      "If statements"
     ]
    },
    {
     "cell_type": "code",
     "collapsed": false,
     "input": [
      "x = int(raw_input(\"Please enter an integer: \"))"
     ],
     "language": "python",
     "metadata": {},
     "outputs": []
    },
    {
     "cell_type": "code",
     "collapsed": false,
     "input": [
      "if x < 0:\n",
      "    print( 'Negative' )\n",
      "elif x == 0:\n",
      "    print( 'x = 0' )\n",
      "elif x > 0:\n",
      "    print( 'x > 0' )\n",
      "else:\n",
      "    print( 'somethign strange was entered' )"
     ],
     "language": "python",
     "metadata": {},
     "outputs": []
    },
    {
     "cell_type": "heading",
     "level": 2,
     "metadata": {},
     "source": [
      "For statments"
     ]
    },
    {
     "cell_type": "markdown",
     "metadata": {},
     "source": [
      "You can loop over each object directly using"
     ]
    },
    {
     "cell_type": "code",
     "collapsed": false,
     "input": [
      "groceries = ['apple', 'pear', 'banana', 'carrot']\n",
      "\n",
      "for item in groceries:\n",
      "    print( item )"
     ],
     "language": "python",
     "metadata": {},
     "outputs": []
    },
    {
     "cell_type": "markdown",
     "metadata": {},
     "source": [
      "Or, you can do it like in C by using an index"
     ]
    },
    {
     "cell_type": "code",
     "collapsed": false,
     "input": [
      "for n in range(len(groceries)):\n",
      "    print( groceries[n] )"
     ],
     "language": "python",
     "metadata": {},
     "outputs": []
    },
    {
     "cell_type": "code",
     "collapsed": false,
     "input": [
      "range(10)"
     ],
     "language": "python",
     "metadata": {},
     "outputs": []
    },
    {
     "cell_type": "code",
     "collapsed": false,
     "input": [
      "?range"
     ],
     "language": "python",
     "metadata": {},
     "outputs": []
    },
    {
     "cell_type": "heading",
     "level": 3,
     "metadata": {},
     "source": [
      "\n",
      "\n",
      "\n",
      "\n",
      "Unlike in C, for and while loops can have an else statement that is executed at the <i>normal</i> end of the loop"
     ]
    },
    {
     "cell_type": "code",
     "collapsed": false,
     "input": [
      "for n in range(2, 10):\n",
      "    for x in range(2, n):\n",
      "         if n % x == 0:\n",
      "             print n, 'equals', x, '*', n/x\n",
      "             break\n",
      "    else:\n",
      "        # loop fell through without finding a factor\n",
      "        print n, 'is a prime number'"
     ],
     "language": "python",
     "metadata": {},
     "outputs": []
    },
    {
     "cell_type": "heading",
     "level": 3,
     "metadata": {},
     "source": [
      "There is a continue statement"
     ]
    },
    {
     "cell_type": "code",
     "collapsed": false,
     "input": [
      " for num in range(2, 10):\n",
      "     if num % 2 == 0:\n",
      "         print \"Found an even number\", num\n",
      "         continue\n",
      "     print \"Found a number\", num"
     ],
     "language": "python",
     "metadata": {},
     "outputs": []
    },
    {
     "cell_type": "heading",
     "level": 2,
     "metadata": {},
     "source": [
      "The pass statement"
     ]
    },
    {
     "cell_type": "markdown",
     "metadata": {},
     "source": [
      "\"The pass statement does nothing. It can be used when a statement is required syntactically but the program requires no action.\""
     ]
    },
    {
     "cell_type": "code",
     "collapsed": false,
     "input": [
      "def function(x):\n",
      "    pass"
     ],
     "language": "python",
     "metadata": {},
     "outputs": []
    },
    {
     "cell_type": "raw",
     "metadata": {},
     "source": [
      "def function_two(x):\n",
      "    # this is invalid"
     ]
    },
    {
     "cell_type": "heading",
     "level": 2,
     "metadata": {},
     "source": [
      "Functions"
     ]
    },
    {
     "cell_type": "code",
     "collapsed": false,
     "input": [
      "def fib(n):    # write Fibonacci series up to n\n",
      "     \"\"\"This is the DOCSTRING. Print a Fibonacci series up to n.\"\"\"\n",
      "     a, b = 0, 1\n",
      "     while a < n:\n",
      "         print a,\n",
      "         a, b = b, a+b"
     ],
     "language": "python",
     "metadata": {},
     "outputs": []
    },
    {
     "cell_type": "code",
     "collapsed": false,
     "input": [
      "help(fib)"
     ],
     "language": "python",
     "metadata": {},
     "outputs": []
    },
    {
     "cell_type": "code",
     "collapsed": false,
     "input": [
      "fib(100)"
     ],
     "language": "python",
     "metadata": {},
     "outputs": []
    },
    {
     "cell_type": "markdown",
     "metadata": {},
     "source": [
      "The execution of a function introduces a new symbol table used for the local variables of the function. More precisely, all variable assignments in a function store the value in the local symbol table; whereas variable references first look in the local symbol table, then in the local symbol tables of enclosing functions, then in the global symbol table, and finally in the table of built-in names. Thus, global variables cannot be directly assigned a value within a function (unless named in a global statement), although they may be referenced."
     ]
    },
    {
     "cell_type": "heading",
     "level": 4,
     "metadata": {},
     "source": [
      "Functions can have more than one name, just like other objects"
     ]
    },
    {
     "cell_type": "code",
     "collapsed": false,
     "input": [
      "f = fib\n",
      "f(100)"
     ],
     "language": "python",
     "metadata": {},
     "outputs": []
    },
    {
     "cell_type": "heading",
     "level": 4,
     "metadata": {},
     "source": [
      "Default arguments"
     ]
    },
    {
     "cell_type": "code",
     "collapsed": false,
     "input": [
      "def func(a = 'a', b = 'b', c = 'c'):\n",
      "    print a, b, c"
     ],
     "language": "python",
     "metadata": {},
     "outputs": []
    },
    {
     "cell_type": "code",
     "collapsed": false,
     "input": [
      "func()"
     ],
     "language": "python",
     "metadata": {},
     "outputs": []
    },
    {
     "cell_type": "code",
     "collapsed": false,
     "input": [
      "func('z')"
     ],
     "language": "python",
     "metadata": {},
     "outputs": []
    },
    {
     "cell_type": "code",
     "collapsed": false,
     "input": [
      "func('z','z')"
     ],
     "language": "python",
     "metadata": {},
     "outputs": []
    },
    {
     "cell_type": "code",
     "collapsed": false,
     "input": [
      "func('z', 'z', 'z')"
     ],
     "language": "python",
     "metadata": {},
     "outputs": []
    },
    {
     "cell_type": "heading",
     "level": 4,
     "metadata": {},
     "source": [
      "The default values can be based on variables in the defining scope"
     ]
    },
    {
     "cell_type": "code",
     "collapsed": false,
     "input": [
      "n = 100\n",
      "def gunc(N = n):\n",
      "    print N\n",
      "\n",
      "n = 88\n",
      "gunc()"
     ],
     "language": "python",
     "metadata": {},
     "outputs": []
    },
    {
     "cell_type": "markdown",
     "metadata": {},
     "source": [
      "As we see, the value of <i>n</i> when the function was first defined is what is used, and not subsequent values."
     ]
    },
    {
     "cell_type": "heading",
     "level": 4,
     "metadata": {},
     "source": [
      "HERE BE DRAGONS!"
     ]
    },
    {
     "cell_type": "code",
     "collapsed": false,
     "input": [
      "def f(a, L=[]):\n",
      "    L.append(a)\n",
      "    return L\n",
      "\n",
      "print f(1)\n",
      "print f(2)\n",
      "print f(3)\n",
      "\n",
      "print f(4, [9, 9 ,9])\n",
      "print f(5)"
     ],
     "language": "python",
     "metadata": {},
     "outputs": []
    },
    {
     "cell_type": "markdown",
     "metadata": {},
     "source": [
      "Here is a proposed alternative"
     ]
    },
    {
     "cell_type": "code",
     "collapsed": false,
     "input": [
      "def f(a, L=None):\n",
      "    if L is None:\n",
      "        L = []\n",
      "    L.append(a)\n",
      "    return L\n",
      "\n",
      "print f(1)\n",
      "print f(2)\n",
      "print f(3)"
     ],
     "language": "python",
     "metadata": {},
     "outputs": []
    },
    {
     "cell_type": "heading",
     "level": 4,
     "metadata": {},
     "source": [
      "Keyword Arguments"
     ]
    },
    {
     "cell_type": "code",
     "collapsed": false,
     "input": [
      "def parrot(voltage, state='a stiff', action='voom', type='Norwegian Blue'):\n",
      "    \n",
      "    print \"-- This parrot wouldn't\", action,\n",
      "    print \"if you put\", voltage, \"volts through it.\"\n",
      "    print \"-- Lovely plumage, the\", type\n",
      "    print \"-- It's\", state, \"!\""
     ],
     "language": "python",
     "metadata": {},
     "outputs": []
    },
    {
     "cell_type": "code",
     "collapsed": false,
     "input": [
      "parrot(1000)                                          # 1 positional argument\n",
      "parrot(voltage=1000)                                  # 1 keyword argument\n",
      "parrot(voltage=1000000, action='VOOOOOM')             # 2 keyword arguments\n",
      "parrot(action='VOOOOOM', voltage=1000000)             # 2 keyword arguments\n",
      "parrot('a million', 'bereft of life', 'jump')         # 3 positional arguments\n",
      "parrot('a thousand', state='pushing up the daisies')  # 1 positional, 1 keyword"
     ],
     "language": "python",
     "metadata": {},
     "outputs": []
    },
    {
     "cell_type": "markdown",
     "metadata": {},
     "source": [
      "The following are invalid combinations"
     ]
    },
    {
     "cell_type": "raw",
     "metadata": {},
     "source": [
      "parrot()                     # required argument missing\n",
      "parrot(voltage=5.0, 'dead')  # non-keyword argument after a keyword argument\n",
      "parrot(110, voltage=220)     # duplicate value for the same argument\n",
      "parrot(actor='John Cleese')  # unknown keyword argument"
     ]
    },
    {
     "cell_type": "markdown",
     "metadata": {},
     "source": [
      "In a function call, keyword arguments must follow positional arguments. All the keyword arguments passed must match one of the arguments accepted by the function (e.g. actor is not a valid argument for the parrot function), and their order is not important. This also includes non-optional arguments (e.g. parrot(voltage=1000) is valid too). No argument may receive a value more than once. "
     ]
    },
    {
     "cell_type": "heading",
     "level": 5,
     "metadata": {},
     "source": [
      "You can combine the two types of formal parameters"
     ]
    },
    {
     "cell_type": "code",
     "collapsed": false,
     "input": [
      "def cheeseshop(kind, *arguments, **keywords):\n",
      "    print \"-- Do you have any\", kind, \"?\"\n",
      "    print \"-- I'm sorry, we're all out of\", kind\n",
      "    for arg in arguments:\n",
      "        print arg\n",
      "    print \"-\" * 40\n",
      "    keys = sorted(keywords.keys())\n",
      "    for kw in keys:\n",
      "        print kw, \":\", keywords[kw]"
     ],
     "language": "python",
     "metadata": {},
     "outputs": []
    },
    {
     "cell_type": "code",
     "collapsed": false,
     "input": [
      "cheeseshop(\"Limburger\", \"It's very runny, sir.\",\n",
      "           \"It's really very, VERY runny, sir.\",\n",
      "           shopkeeper='Michael Palin',\n",
      "           client=\"John Cleese\",\n",
      "           sketch=\"Cheese Shop Sketch\")"
     ],
     "language": "python",
     "metadata": {},
     "outputs": []
    },
    {
     "cell_type": "heading",
     "level": 4,
     "metadata": {},
     "source": [
      "This is how you can get arguments from a tuple"
     ]
    },
    {
     "cell_type": "code",
     "collapsed": false,
     "input": [
      "x = range(1,10)\n",
      "print(x)"
     ],
     "language": "python",
     "metadata": {},
     "outputs": []
    },
    {
     "cell_type": "code",
     "collapsed": false,
     "input": [
      "args = [1, 10]\n",
      "y = range(*args)\n",
      "print(y)"
     ],
     "language": "python",
     "metadata": {},
     "outputs": []
    },
    {
     "cell_type": "heading",
     "level": 4,
     "metadata": {},
     "source": [
      "Similarly, for dictionaries you can use the following"
     ]
    },
    {
     "cell_type": "code",
     "collapsed": false,
     "input": [
      "def parrot(voltage, state='a stiff', action='voom'):\n",
      "     print \"-- This parrot wouldn't\", action,\n",
      "     print \"if you put\", voltage, \"volts through it.\",\n",
      "     print \"E's\", state, \"!\"\n",
      "\n",
      "d = {\"voltage\": \"four million\", \"state\": \"bleedin' demised\", \"action\": \"VOOM\"}\n",
      "parrot(**d)"
     ],
     "language": "python",
     "metadata": {},
     "outputs": []
    },
    {
     "cell_type": "heading",
     "level": 2,
     "metadata": {},
     "source": [
      "Lambda forms (or functions)"
     ]
    },
    {
     "cell_type": "code",
     "collapsed": false,
     "input": [
      "g = lambda x: x ** 2"
     ],
     "language": "python",
     "metadata": {},
     "outputs": []
    },
    {
     "cell_type": "code",
     "collapsed": false,
     "input": [],
     "language": "python",
     "metadata": {},
     "outputs": []
    },
    {
     "cell_type": "code",
     "collapsed": false,
     "input": [
      "def make_incrementor(n):\n",
      "     return lambda x: x + n\n",
      "\n",
      "f = make_incrementor(10)"
     ],
     "language": "python",
     "metadata": {},
     "outputs": []
    },
    {
     "cell_type": "code",
     "collapsed": false,
     "input": [
      "f(1)"
     ],
     "language": "python",
     "metadata": {},
     "outputs": []
    },
    {
     "cell_type": "code",
     "collapsed": false,
     "input": [
      "f(34)"
     ],
     "language": "python",
     "metadata": {},
     "outputs": []
    },
    {
     "cell_type": "code",
     "collapsed": false,
     "input": [],
     "language": "python",
     "metadata": {},
     "outputs": []
    }
   ],
   "metadata": {}
  }
 ]
}