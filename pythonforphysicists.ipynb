{
 "metadata": {
  "name": "",
  "signature": "sha256:1668e00fef6402b42dc616e0fbe2dcf7cb1945f117a6a50b7e8dc9c2d07fc3c8"
 },
 "nbformat": 3,
 "nbformat_minor": 0,
 "worksheets": [
  {
   "cells": [
    {
     "cell_type": "code",
     "collapsed": false,
     "input": [
      "#!/usr/bin/env python\n",
      "\n",
      "def version():\n",
      "    print \"Python for Physicists v1.0\"\n",
      "\n",
      "def square_number(x):\n",
      "    return x ** 2\n",
      "\n",
      "if __name__ == \"__main__\":\n",
      "    print(\"Testing Python for Physicists module\")\n",
      "    version()\n",
      "    print(\"7 squared is \" + str(square_number(7)) )\n",
      "    print(\"Test complete.\")\n"
     ],
     "language": "python",
     "metadata": {},
     "outputs": []
    }
   ],
   "metadata": {}
  }
 ]
}