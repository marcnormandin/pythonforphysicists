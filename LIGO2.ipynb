{
 "metadata": {
  "name": "",
  "signature": "sha256:0e5125388e39aed99c4e169850c815b535fb1501711383f1921d30dfc8537928"
 },
 "nbformat": 3,
 "nbformat_minor": 0,
 "worksheets": [
  {
   "cells": [
    {
     "cell_type": "code",
     "collapsed": false,
     "input": [
      "import numpy as np\n",
      "from math import *\n",
      "import matplotlib.pyplot as plt\n",
      "\n",
      "class Interferometer:\n",
      "    \"\"\"Basic interferometer\"\"\"\n",
      "    \n",
      "    detector_tensor = None\n",
      "    \n",
      "    def __init__(self, detector_arm_direction_A_vector, detector_arm_direction_B_vector):\n",
      "        \"\"\"Creates the 3x3 detector tensor given two 3D arm-vectors\"\"\"\n",
      "    \n",
      "        detector_tensor = np.array([0.0]*9)\n",
      "    \n",
      "        for i in range(0,3):\n",
      "            for j in range(0,3):\n",
      "                detector_tensor[j + i * 3] = ( detector_arm_direction_A_vector[i] * detector_arm_direction_A_vector[j] ) - ( detector_arm_direction_B_vector[i] * detector_arm_direction_B_vector[j] )\n",
      "                    \n",
      "        self.detector_tensor = detector_tensor\n",
      "\n",
      "\n",
      "    def fplus( self, azimuthal_angle, polar_angle ):\n",
      "        \"\"\"Returns the detector's F+ antenna pattern\"\"\"\n",
      "        \n",
      "        # CAREFUL: This is based on arbitrary convention.\n",
      "        phi_hat_tensor = SphericalPolarCoordinatesAzimuthalBasisVector( azimuthal_angle )\n",
      "        theta_hat_tensor = SphericalPolarCoordinatesPolarBasisVector(     azimuthal_angle, polar_angle )\n",
      "        \n",
      "        f_plus = 0.0\n",
      "        for i in range(0,3):\n",
      "            for j in range(0,3):\n",
      "                # note: 1/2 is used to normalize etaPlus\n",
      "                etaPlus_ij  = 0.5 * ( ( theta_hat_tensor[i] * theta_hat_tensor[j] ) - ( phi_hat_tensor[i] * phi_hat_tensor[j] ) )\n",
      "                tensor_ij = self.detector_tensor[ j + i * 3]\n",
      "                f_plus += etaPlus_ij * tensor_ij\n",
      "        \n",
      "        return f_plus\n",
      "\n",
      "\n",
      "    def fcross (self, azimuthal_angle, polar_angle ):\n",
      "        \"\"\"Returns the detector's Fx antenna pattern\"\"\"\n",
      "        \n",
      "        # CAREFUL: This is based on arbitrary convention.\n",
      "        phi_hat_tensor = SphericalPolarCoordinatesAzimuthalBasisVector( azimuthal_angle )\n",
      "        theta_hat_tensor = SphericalPolarCoordinatesPolarBasisVector(     azimuthal_angle, polar_angle )\n",
      "        f_cross = 0.0;\n",
      "        \n",
      "        for i in range(0,3):\n",
      "            for j in range(0,3):\n",
      "                # note: 1/2 is used to normalize etaCross\n",
      "                # HACK: used a -1.0 to make the test succeed\n",
      "                etaCross_ij = -0.5 * ( ( theta_hat_tensor[i] * phi_hat_tensor[j] ) + ( phi_hat_tensor[i] * theta_hat_tensor[j] ) )\n",
      "                tensor_ij = self.detector_tensor[ j + i * 3 ]\n",
      "                \n",
      "                f_cross += etaCross_ij * tensor_ij\n",
      "        \n",
      "        return f_cross\n",
      "\n",
      "    def plot_fplus(self):\n",
      "        axis_azi = np.linspace(0.0, 2.0*pi, 100)\n",
      "        axis_pol = np.linspace(0.0, pi, 50)\n",
      "        AA, PP = np.meshgrid(axis_azi, axis_pol)\n",
      "        FP = np.ndarray((len(axis_azi), len(axis_pol)), np.float64)\n",
      "        for i in range(0, len(axis_azi)):\n",
      "            for j in range(0, len(axis_pol)):\n",
      "                FP[i,j] = self.fplus(axis_azi[i], axis_pol[j])\n",
      "        pcolor(FP)\n",
      "    \n",
      "    def plot_fcross(self):\n",
      "        axis_azi = np.linspace(0.0, 2.0*pi, 100)\n",
      "        axis_pol = np.linspace(0.0, pi, 50)\n",
      "        AA, PP = np.meshgrid(axis_azi, axis_pol)\n",
      "        FC = np.ndarray((len(axis_azi), len(axis_pol)), np.float64)\n",
      "        for i in range(0, len(axis_azi)):\n",
      "            for j in range(0, len(axis_pol)):\n",
      "                FC[i,j] = self.fcross(axis_azi[i], axis_pol[j])\n",
      "        pcolor(FC)\n",
      "        \n",
      "    def strain(self, gravitationalWave):\n",
      "        return f+ h+ +  \n",
      "        \n",
      "\n",
      "# Helper functions\n",
      "def SphericalPolarCoordinatesAzimuthalBasisVector ( azimuthal_angle ):\n",
      "    uv = np.array([0.0]*3)\n",
      "    uv[0] = -1.0 * sin( azimuthal_angle )\n",
      "    uv[1] = cos( azimuthal_angle )\n",
      "    uv[2] = 0.0\n",
      "    return uv\n",
      "\n",
      "\n",
      "\n",
      "def SphericalPolarCoordinatesPolarBasisVector ( azimuthal_angle, polar_angle):\n",
      "    uv = np.array([0.0]*3)\n",
      "    uv[0] = cos( polar_angle ) * cos( azimuthal_angle )\n",
      "    uv[1] = cos( polar_angle ) * sin( azimuthal_angle )\n",
      "    uv[2] = -1.0 * sin( polar_angle )\n",
      "    return uv\n",
      "\n",
      "\n",
      "\n",
      "def SphericalPolarCoordinatesRadialBasisVector ( azimuthal_angle, polar_angle):\n",
      "    uv = np.array([0.0]*3)\n",
      "    uv[0] = sin( polar_angle ) * cos( azimuthal_angle )\n",
      "    uv[1] = sin( polar_angle ) * sin( azimuthal_angle )\n",
      "    uv[2] = cos( polar_angle )\n",
      "    return uv\n",
      "\n",
      "\n",
      "\n"
     ],
     "language": "python",
     "metadata": {},
     "outputs": []
    },
    {
     "cell_type": "code",
     "collapsed": false,
     "input": [
      "# Hanford\n",
      "han_azi = 1.0568\n",
      "han_pol = 0.7604\n",
      "han_rad = 6371e3\n",
      "han_arm_a = np.array([0.3562, 0.3388, -0.8708])\n",
      "han_arm_b = np.array([-0.6892, 0.7246, 0.0])\n",
      "han_sf = 4096.0"
     ],
     "language": "python",
     "metadata": {},
     "outputs": []
    },
    {
     "cell_type": "code",
     "collapsed": false,
     "input": [
      "# Livingston\n",
      "liv_azi = 1.5573\n",
      "liv_pol = 1.0374\n",
      "liv_rad = 6371e3\n",
      "liv_arm_a = np.array([0.0069, 0.0116, -0.9999])\n",
      "liv_arm_b = np.array([-0.8611, 0.5085, 0.0])\n",
      "liv_sf = 4096.0"
     ],
     "language": "python",
     "metadata": {},
     "outputs": []
    },
    {
     "cell_type": "code",
     "collapsed": false,
     "input": [
      "hanford = Interferometer(han_arm_a, han_arm_b)\n",
      "livingston = Interferometer(liv_arm_a, liv_arm_b)"
     ],
     "language": "python",
     "metadata": {},
     "outputs": []
    },
    {
     "cell_type": "code",
     "collapsed": false,
     "input": [
      "hanford.fplus(0.5, 0.5)"
     ],
     "language": "python",
     "metadata": {},
     "outputs": []
    },
    {
     "cell_type": "code",
     "collapsed": false,
     "input": [
      "hanford.plot_fplus()"
     ],
     "language": "python",
     "metadata": {},
     "outputs": []
    },
    {
     "cell_type": "code",
     "collapsed": false,
     "input": [
      "livingston.plot_fcross()"
     ],
     "language": "python",
     "metadata": {},
     "outputs": []
    },
    {
     "cell_type": "code",
     "collapsed": false,
     "input": [
      "hanford.detector_tensor"
     ],
     "language": "python",
     "metadata": {},
     "outputs": []
    },
    {
     "cell_type": "code",
     "collapsed": false,
     "input": [
      "hanford.detector_tensor[0] = 1"
     ],
     "language": "python",
     "metadata": {},
     "outputs": []
    },
    {
     "cell_type": "code",
     "collapsed": false,
     "input": [],
     "language": "python",
     "metadata": {},
     "outputs": []
    }
   ],
   "metadata": {}
  }
 ]
}